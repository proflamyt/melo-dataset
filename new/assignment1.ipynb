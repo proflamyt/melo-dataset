{
 "cells": [
  {
   "cell_type": "code",
   "execution_count": 1,
   "id": "e75f5a30",
   "metadata": {},
   "outputs": [],
   "source": [
    "import numpy as np\n",
    "import pandas as pd\n",
    "import matplotlib.pyplot as plt\n",
    "import seaborn as sns\n",
    "sns.set_context(\"talk\")\n",
    "%matplotlib inline"
   ]
  },
  {
   "cell_type": "markdown",
   "id": "d6ff444a",
   "metadata": {},
   "source": [
    "# Create DataSet And Make It A DataFrame "
   ]
  },
  {
   "cell_type": "code",
   "execution_count": 2,
   "id": "bfffe862",
   "metadata": {},
   "outputs": [],
   "source": [
    "df = [(2, 1), (1, 2), (3,4)]"
   ]
  },
  {
   "cell_type": "code",
   "execution_count": 3,
   "id": "f26852ce",
   "metadata": {},
   "outputs": [],
   "source": [
    "df = pd.DataFrame(df, columns= ['X', 'Y'])"
   ]
  },
  {
   "cell_type": "markdown",
   "id": "52a8d5df",
   "metadata": {},
   "source": [
    "# Visualize and Split Data"
   ]
  },
  {
   "cell_type": "code",
   "execution_count": 4,
   "id": "47bdef5c",
   "metadata": {},
   "outputs": [
    {
     "data": {
      "text/plain": [
       "0    2\n",
       "1    1\n",
       "2    3\n",
       "Name: X, dtype: int64"
      ]
     },
     "execution_count": 4,
     "metadata": {},
     "output_type": "execute_result"
    }
   ],
   "source": [
    "df['X']"
   ]
  },
  {
   "cell_type": "code",
   "execution_count": 5,
   "id": "6c1f83f2",
   "metadata": {},
   "outputs": [
    {
     "data": {
      "text/plain": [
       "0    1\n",
       "1    2\n",
       "2    4\n",
       "Name: Y, dtype: int64"
      ]
     },
     "execution_count": 5,
     "metadata": {},
     "output_type": "execute_result"
    }
   ],
   "source": [
    "df['Y']"
   ]
  },
  {
   "cell_type": "code",
   "execution_count": 6,
   "id": "0560c7aa",
   "metadata": {},
   "outputs": [],
   "source": [
    "y = df['Y']\n",
    "x = df['X']"
   ]
  },
  {
   "cell_type": "markdown",
   "id": "20f8cf53",
   "metadata": {},
   "source": [
    "* Y mean"
   ]
  },
  {
   "cell_type": "code",
   "execution_count": 7,
   "id": "aca76899",
   "metadata": {},
   "outputs": [
    {
     "data": {
      "text/plain": [
       "2.3333333333333335"
      ]
     },
     "execution_count": 7,
     "metadata": {},
     "output_type": "execute_result"
    }
   ],
   "source": [
    "y_mean = y.mean()\n",
    "y_mean"
   ]
  },
  {
   "cell_type": "markdown",
   "id": "7005ffcc",
   "metadata": {},
   "source": [
    "* X Mean"
   ]
  },
  {
   "cell_type": "code",
   "execution_count": 8,
   "id": "7ec126b5",
   "metadata": {},
   "outputs": [
    {
     "data": {
      "text/plain": [
       "2.0"
      ]
     },
     "execution_count": 8,
     "metadata": {},
     "output_type": "execute_result"
    }
   ],
   "source": [
    "x_mean = x.mean()\n",
    "x_mean "
   ]
  },
  {
   "cell_type": "markdown",
   "id": "24954933",
   "metadata": {},
   "source": [
    "* Mean Of X square"
   ]
  },
  {
   "cell_type": "code",
   "execution_count": 9,
   "id": "dfdde437",
   "metadata": {},
   "outputs": [
    {
     "data": {
      "text/plain": [
       "4.0"
      ]
     },
     "execution_count": 9,
     "metadata": {},
     "output_type": "execute_result"
    }
   ],
   "source": [
    "x_mean_square = x_mean**2\n",
    "x_mean_square"
   ]
  },
  {
   "cell_type": "code",
   "execution_count": 10,
   "id": "6ddb6b4f",
   "metadata": {},
   "outputs": [
    {
     "data": {
      "text/plain": [
       "4.666666666666667"
      ]
     },
     "execution_count": 10,
     "metadata": {},
     "output_type": "execute_result"
    }
   ],
   "source": [
    "x_mean_y_mean =  x_mean * y_mean \n",
    "x_mean_y_mean"
   ]
  },
  {
   "cell_type": "code",
   "execution_count": 11,
   "id": "239b5a97",
   "metadata": {},
   "outputs": [],
   "source": [
    "xy_mean = (x*y).mean()"
   ]
  },
  {
   "cell_type": "code",
   "execution_count": 12,
   "id": "7de255a5",
   "metadata": {},
   "outputs": [],
   "source": [
    "x_square_mean = (x**2).mean()"
   ]
  },
  {
   "cell_type": "code",
   "execution_count": 13,
   "id": "775c85b2",
   "metadata": {},
   "outputs": [],
   "source": [
    "m = ((x_mean*y_mean) - xy_mean)/(x_mean_square-x_square_mean)"
   ]
  },
  {
   "cell_type": "code",
   "execution_count": 14,
   "id": "fbaeaed7",
   "metadata": {},
   "outputs": [
    {
     "data": {
      "text/plain": [
       "0.9999999999999987"
      ]
     },
     "execution_count": 14,
     "metadata": {},
     "output_type": "execute_result"
    }
   ],
   "source": [
    "m"
   ]
  },
  {
   "cell_type": "code",
   "execution_count": 15,
   "id": "593a2cd4",
   "metadata": {},
   "outputs": [],
   "source": [
    "#bias (b) using ȳ-mx̄"
   ]
  },
  {
   "cell_type": "code",
   "execution_count": 16,
   "id": "79c4c4b7",
   "metadata": {},
   "outputs": [
    {
     "data": {
      "text/plain": [
       "0.33333333333333615"
      ]
     },
     "execution_count": 16,
     "metadata": {},
     "output_type": "execute_result"
    }
   ],
   "source": [
    "b  = y_mean - (m*x_mean)\n",
    "b"
   ]
  },
  {
   "cell_type": "code",
   "execution_count": 17,
   "id": "689d76d3",
   "metadata": {},
   "outputs": [],
   "source": [
    "y_pred =m*x+b  # Pridicted Y variables"
   ]
  },
  {
   "cell_type": "code",
   "execution_count": 18,
   "id": "f1d1fb4d",
   "metadata": {},
   "outputs": [
    {
     "data": {
      "image/png": "[encoded data removed]",
      "text/plain": [
       "<Figure size 432x288 with 1 Axes>"
      ]
     },
     "metadata": {
      "needs_background": "light"
     },
     "output_type": "display_data"
    }
   ],
   "source": [
    "\n",
    "# poly1d_fn is now a function which takes in x and returns an estimate for y\n",
    "\n",
    "plt.plot(x,y, 'yo', x,np.array(y_pred), '--k') #'--k'=black dashed line, 'yo' = yellow circle marker\n",
    "\n",
    "plt.xlim(0, 5)\n",
    "plt.ylim(0, 12)\n",
    "plt.show()"
   ]
  },
  {
   "cell_type": "markdown",
   "id": "45254e41",
   "metadata": {},
   "source": [
    "# TASK 2"
   ]
  },
  {
   "cell_type": "code",
   "execution_count": 20,
   "id": "665a788e",
   "metadata": {},
   "outputs": [],
   "source": [
    "from sklearn import datasets\n",
    "from sklearn.preprocessing import StandardScaler\n",
    "from sklearn.preprocessing import MinMaxScaler\n",
    "from sklearn.preprocessing import normalize\n",
    "from sklearn.model_selection import train_test_split\n",
    "import pandas as pd \n",
    "import matplotlib.pyplot as plt\n",
    "import numpy as np"
   ]
  },
  {
   "cell_type": "code",
   "execution_count": 21,
   "id": "0be3f22b",
   "metadata": {},
   "outputs": [
    {
     "name": "stderr",
     "output_type": "stream",
     "text": [
      "/home/olamide/.local/lib/python3.9/site-packages/sklearn/utils/deprecation.py:87: FutureWarning: Function load_boston is deprecated; `load_boston` is deprecated in 1.0 and will be removed in 1.2.\n",
      "\n",
      "    The Boston housing prices dataset has an ethical problem. You can refer to\n",
      "    the documentation of this function for further details.\n",
      "\n",
      "    The scikit-learn maintainers therefore strongly discourage the use of this\n",
      "    dataset unless the purpose of the code is to study and educate about\n",
      "    ethical issues in data science and machine learning.\n",
      "\n",
      "    In this special case, you can fetch the dataset from the original\n",
      "    source::\n",
      "\n",
      "        import pandas as pd\n",
      "        import numpy as np\n",
      "\n",
      "\n",
      "        data_url = \"http://lib.stat.cmu.edu/datasets/boston\"\n",
      "        raw_df = pd.read_csv(data_url, sep=\"\\s+\", skiprows=22, header=None)\n",
      "        data = np.hstack([raw_df.values[::2, :], raw_df.values[1::2, :2]])\n",
      "        target = raw_df.values[1::2, 2]\n",
      "\n",
      "    Alternative datasets include the California housing dataset (i.e.\n",
      "    :func:`~sklearn.datasets.fetch_california_housing`) and the Ames housing\n",
      "    dataset. You can load the datasets as follows::\n",
      "\n",
      "        from sklearn.datasets import fetch_california_housing\n",
      "        housing = fetch_california_housing()\n",
      "\n",
      "    for the California housing dataset and::\n",
      "\n",
      "        from sklearn.datasets import fetch_openml\n",
      "        housing = fetch_openml(name=\"house_prices\", as_frame=True)\n",
      "\n",
      "    for the Ames housing dataset.\n",
      "    \n",
      "  warnings.warn(msg, category=FutureWarning)\n"
     ]
    },
    {
     "data": {
      "text/plain": [
       "dict_keys(['data', 'target', 'feature_names', 'DESCR', 'filename', 'data_module'])"
      ]
     },
     "execution_count": 21,
     "metadata": {},
     "output_type": "execute_result"
    }
   ],
   "source": [
    "boston  = datasets.load_boston()\n",
    "boston.keys()"
   ]
  },
  {
   "cell_type": "code",
   "execution_count": 22,
   "id": "cd35ca9a",
   "metadata": {},
   "outputs": [],
   "source": [
    "class LinearRegression:\n",
    "    '''\n",
    "    A class which implements linear regression model with gradient descent.\n",
    "    '''\n",
    "    def __init__(self, learning_rate=0.01, n_iterations=10000):\n",
    "        self.learning_rate = learning_rate\n",
    "        self.n_iterations = n_iterations\n",
    "        self.weights, self.bias = None, None\n",
    "        self.loss = []\n",
    "        \n",
    "    @staticmethod\n",
    "    def _mean_squared_error(y, y_hat):\n",
    "        '''\n",
    "        Private method, used to evaluate loss at each iteration.\n",
    "        \n",
    "        :param: y - array, true values\n",
    "        :param: y_hat - array, predicted values\n",
    "        :return: float\n",
    "        '''\n",
    "        error = 0\n",
    "        for i in range(len(y)):\n",
    "            error += (y[i] - y_hat[i]) ** 2\n",
    "            # print(error)\n",
    "        return error / len(y)\n",
    "    \n",
    "    def fit(self, X, y):\n",
    "        '''\n",
    "        Used to calculate the coefficient of the linear regression model.\n",
    "        \n",
    "        :param X: array, features\n",
    "        :param y: array, true values\n",
    "        :return: None\n",
    "        '''\n",
    "        # 1. Initialize weights and bias to zeros\n",
    "        self.weights = np.zeros(X.shape[1])\n",
    "        self.bias = 0\n",
    "        \n",
    "        # 2. Perform gradient descent\n",
    "        for i in range(self.n_iterations):\n",
    "            # Line equation\n",
    "            y_hat = np.dot(X, self.weights) + self.bias\n",
    "            loss = self._mean_squared_error(y, y_hat)\n",
    "            self.loss.append(loss)\n",
    "            \n",
    "            # Calculate derivatives\n",
    "            partial_w = (1 / X.shape[0]) * (2 * np.dot(X.T, (y_hat - y)))\n",
    "            partial_d = (1 / X.shape[0]) * (2 * np.sum(y_hat - y))\n",
    "            \n",
    "            # Update the coefficients\n",
    "            self.weights -= self.learning_rate * partial_w\n",
    "            self.bias -= self.learning_rate * partial_d\n",
    "        \n",
    "        \n",
    "    def predict(self, X):\n",
    "        '''\n",
    "        Makes predictions using the line equation.\n",
    "        \n",
    "        :param X: array, features\n",
    "        :return: array, predictions\n",
    "        '''\n",
    "        return np.dot(X, self.weights) + self.bias"
   ]
  },
  {
   "cell_type": "code",
   "execution_count": 23,
   "id": "f9aaa552",
   "metadata": {},
   "outputs": [],
   "source": [
    "from sklearn.datasets import load_boston\n",
    "\n",
    "data = load_boston()\n",
    "X = data.data\n",
    "y = data.target"
   ]
  },
  {
   "cell_type": "code",
   "execution_count": 24,
   "id": "68b1ebb5",
   "metadata": {},
   "outputs": [],
   "source": [
    "from sklearn.model_selection import train_test_split\n",
    "X = normalize(X, norm='l2')\n",
    "X_train, X_test, y_train, y_test = train_test_split(X, y, test_size=0.2, random_state=42)\n",
    "\n"
   ]
  },
  {
   "cell_type": "code",
   "execution_count": 25,
   "id": "ce06ffa3",
   "metadata": {},
   "outputs": [],
   "source": [
    "model = LinearRegression()\n",
    "model.fit(X_train, y_train)\n",
    "preds = model.predict(X_test)"
   ]
  },
  {
   "cell_type": "code",
   "execution_count": 31,
   "id": "a4c24faa",
   "metadata": {},
   "outputs": [
    {
     "data": {
      "image/png": "[encoded data removed]",
      "text/plain": [
       "<Figure size 432x288 with 1 Axes>"
      ]
     },
     "metadata": {
      "needs_background": "light"
     },
     "output_type": "display_data"
    }
   ],
   "source": [
    "ys = np.arange(len(model.weights))\n",
    "xs = model.weights\n",
    "\n",
    "plt.plot(xs, ys, lw=3, c='#087E8B')\n",
    "plt.title('Network weight', size=20)\n",
    "plt.xlabel('Weights', size=14)\n",
    "plt.ylabel('Variables', size=14)\n",
    "plt.show()"
   ]
  },
  {
   "cell_type": "code",
   "execution_count": 32,
   "id": "1e57dbaf",
   "metadata": {},
   "outputs": [
    {
     "data": {
      "text/plain": [
       "29.23356910485999"
      ]
     },
     "execution_count": 32,
     "metadata": {},
     "output_type": "execute_result"
    }
   ],
   "source": [
    "model = LinearRegression(learning_rate=0.5)\n",
    "model.fit(X_train, y_train)\n",
    "preds = model.predict(X_test)\n",
    "\n",
    "model._mean_squared_error(y_test, preds)"
   ]
  },
  {
   "cell_type": "code",
   "execution_count": 33,
   "id": "966b424b",
   "metadata": {},
   "outputs": [
    {
     "data": {
      "text/plain": [
       "array([27.3697445 , 30.86596525, 18.47643469, 24.41612805, 19.08150199,\n",
       "       21.90610206, 20.42397575, 15.64087893, 20.96657976, 21.83882069,\n",
       "       22.02733257, 22.13656867,  2.69850875, 21.09986263, 24.26750877,\n",
       "       20.45766612, 21.94829223, 13.01323331, 34.09948244, 18.77324132,\n",
       "       27.61257821, 28.4380942 , 16.72978517, 25.1413037 , 18.61861108,\n",
       "       17.9810494 , 22.40982384, 13.99836207, 21.98418693, 21.51370437,\n",
       "       24.11981869, 26.30018011, 19.78136344, 21.97915173, 16.71013157,\n",
       "       17.54618544, 30.02259507, 25.84040407, 21.49108667, 22.66609253,\n",
       "       17.79660862, 31.18603454, 35.72790451, 21.59921672, 26.84798305,\n",
       "       19.26630725, 19.40796091, 23.44587504, 19.43562357, 29.85567347,\n",
       "       24.62269393, 31.1686805 , 20.44019195, 25.00174883, 31.77798668,\n",
       "       20.58516939, 19.7314952 , 32.76929138, 25.82606929, 20.31864324,\n",
       "       25.7001462 , 32.98088731, 26.78344578, 17.89119464, 26.47432423,\n",
       "       18.85916452, 19.19117386, 27.13670737, 31.59314895, 14.0688298 ,\n",
       "       22.24501534, 22.32500486, 13.55077678, 27.46963582, 21.96406649,\n",
       "       11.43503143, 23.16559784, 35.18882451, 17.13295552, 15.49381799,\n",
       "       23.93250742, 14.24196706, 26.8409588 , 15.54565811, 25.02164441,\n",
       "       25.67063928, 17.43842428, 26.35785743, 27.06980629, 20.86809842,\n",
       "       24.80134132,  9.25071109, 21.9445923 , 20.92017905, 22.37022449,\n",
       "       22.3330094 , 21.7608957 ,  6.20803965, 13.81408885, 12.76092646,\n",
       "       23.55328647, 22.53658447])"
      ]
     },
     "execution_count": 33,
     "metadata": {},
     "output_type": "execute_result"
    }
   ],
   "source": [
    "preds"
   ]
  },
  {
   "cell_type": "code",
   "execution_count": 34,
   "id": "24dfc2da",
   "metadata": {},
   "outputs": [
    {
     "data": {
      "text/plain": [
       "(array([5]),)"
      ]
     },
     "execution_count": 34,
     "metadata": {},
     "output_type": "execute_result"
    }
   ],
   "source": [
    "np.where(model.weights==max(model.weights))"
   ]
  },
  {
   "cell_type": "code",
   "execution_count": 39,
   "id": "91c9029d",
   "metadata": {},
   "outputs": [
    {
     "data": {
      "text/plain": [
       "'RM'"
      ]
     },
     "execution_count": 39,
     "metadata": {},
     "output_type": "execute_result"
    }
   ],
   "source": [
    "boston.feature_names[5]\n"
   ]
  },
  {
   "cell_type": "code",
   "execution_count": null,
   "id": "c6389bb2",
   "metadata": {},
   "outputs": [],
   "source": []
  }
 ],
 "metadata": {
  "kernelspec": {
   "display_name": "Python 3 (ipykernel)",
   "language": "python",
   "name": "python3"
  },
  "language_info": {
   "codemirror_mode": {
    "name": "ipython",
    "version": 3
   },
   "file_extension": ".py",
   "mimetype": "text/x-python",
   "name": "python",
   "nbconvert_exporter": "python",
   "pygments_lexer": "ipython3",
   "version": "3.9.7"
  }
 },
 "nbformat": 4,
 "nbformat_minor": 5
}
