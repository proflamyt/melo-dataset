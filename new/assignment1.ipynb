{
 "cells": [
  {
   "cell_type": "code",
   "execution_count": 24,
   "id": "e75f5a30",
   "metadata": {},
   "outputs": [],
   "source": [
    "import numpy as np\n",
    "import pandas as pd\n",
    "import matplotlib.pyplot as plt\n",
    "import seaborn as sns\n",
    "import warnings\n",
    "sns.set_context(\"talk\")\n",
    "%matplotlib inline"
   ]
  },
  {
   "cell_type": "markdown",
   "id": "d6ff444a",
   "metadata": {},
   "source": [
    "# Create DataSet And Make It A DataFrame "
   ]
  },
  {
   "cell_type": "code",
   "execution_count": 25,
   "id": "bfffe862",
   "metadata": {},
   "outputs": [],
   "source": [
    "df = [(2, 1), (1, 2), (3,4)]"
   ]
  },
  {
   "cell_type": "code",
   "execution_count": 26,
   "id": "f26852ce",
   "metadata": {},
   "outputs": [],
   "source": [
    "df = pd.DataFrame(df, columns= ['X', 'Y'])"
   ]
  },
  {
   "cell_type": "markdown",
   "id": "52a8d5df",
   "metadata": {},
   "source": [
    "# Visualize and Split Data"
   ]
  },
  {
   "cell_type": "code",
   "execution_count": 27,
   "id": "47bdef5c",
   "metadata": {},
   "outputs": [
    {
     "data": {
      "text/plain": [
       "0    2\n",
       "1    1\n",
       "2    3\n",
       "Name: X, dtype: int64"
      ]
     },
     "execution_count": 27,
     "metadata": {},
     "output_type": "execute_result"
    }
   ],
   "source": [
    "df['X']"
   ]
  },
  {
   "cell_type": "code",
   "execution_count": 28,
   "id": "6c1f83f2",
   "metadata": {},
   "outputs": [
    {
     "data": {
      "text/plain": [
       "0    1\n",
       "1    2\n",
       "2    4\n",
       "Name: Y, dtype: int64"
      ]
     },
     "execution_count": 28,
     "metadata": {},
     "output_type": "execute_result"
    }
   ],
   "source": [
    "df['Y']"
   ]
  },
  {
   "cell_type": "code",
   "execution_count": 29,
   "id": "0560c7aa",
   "metadata": {},
   "outputs": [],
   "source": [
    "y = df['Y']\n",
    "x = df['X']"
   ]
  },
  {
   "cell_type": "markdown",
   "id": "20f8cf53",
   "metadata": {},
   "source": [
    "* Y mean"
   ]
  },
  {
   "cell_type": "code",
   "execution_count": 30,
   "id": "aca76899",
   "metadata": {},
   "outputs": [
    {
     "data": {
      "text/plain": [
       "2.3333333333333335"
      ]
     },
     "execution_count": 30,
     "metadata": {},
     "output_type": "execute_result"
    }
   ],
   "source": [
    "y_mean = y.mean()\n",
    "y_mean"
   ]
  },
  {
   "cell_type": "markdown",
   "id": "7005ffcc",
   "metadata": {},
   "source": [
    "* X Mean"
   ]
  },
  {
   "cell_type": "code",
   "execution_count": 31,
   "id": "7ec126b5",
   "metadata": {},
   "outputs": [
    {
     "data": {
      "text/plain": [
       "2.0"
      ]
     },
     "execution_count": 31,
     "metadata": {},
     "output_type": "execute_result"
    }
   ],
   "source": [
    "x_mean = x.mean()\n",
    "x_mean "
   ]
  },
  {
   "cell_type": "markdown",
   "id": "24954933",
   "metadata": {},
   "source": [
    "* Mean Of X square"
   ]
  },
  {
   "cell_type": "code",
   "execution_count": 32,
   "id": "dfdde437",
   "metadata": {},
   "outputs": [
    {
     "data": {
      "text/plain": [
       "4.0"
      ]
     },
     "execution_count": 32,
     "metadata": {},
     "output_type": "execute_result"
    }
   ],
   "source": [
    "x_mean_square = x_mean**2\n",
    "x_mean_square"
   ]
  },
  {
   "cell_type": "code",
   "execution_count": 33,
   "id": "6ddb6b4f",
   "metadata": {},
   "outputs": [
    {
     "data": {
      "text/plain": [
       "4.666666666666667"
      ]
     },
     "execution_count": 33,
     "metadata": {},
     "output_type": "execute_result"
    }
   ],
   "source": [
    "x_mean_y_mean =  x_mean * y_mean \n",
    "x_mean_y_mean"
   ]
  },
  {
   "cell_type": "code",
   "execution_count": 34,
   "id": "239b5a97",
   "metadata": {},
   "outputs": [],
   "source": [
    "xy_mean = (x*y).mean()"
   ]
  },
  {
   "cell_type": "code",
   "execution_count": 35,
   "id": "08fe25a3",
   "metadata": {},
   "outputs": [],
   "source": [
    "x_square_mean = (x**2).mean()"
   ]
  },
  {
   "cell_type": "code",
   "execution_count": 36,
   "id": "775c85b2",
   "metadata": {},
   "outputs": [],
   "source": [
    "m = ((x_mean*y_mean) - xy_mean)/(x_mean_square-x_square_mean)"
   ]
  },
  {
   "cell_type": "code",
   "execution_count": 37,
   "id": "fbaeaed7",
   "metadata": {},
   "outputs": [
    {
     "data": {
      "text/plain": [
       "0.9999999999999987"
      ]
     },
     "execution_count": 37,
     "metadata": {},
     "output_type": "execute_result"
    }
   ],
   "source": [
    "m"
   ]
  },
  {
   "cell_type": "code",
   "execution_count": 38,
   "id": "593a2cd4",
   "metadata": {},
   "outputs": [],
   "source": [
    "#bias (b) using ȳ-mx̄"
   ]
  },
  {
   "cell_type": "code",
   "execution_count": 39,
   "id": "79c4c4b7",
   "metadata": {},
   "outputs": [
    {
     "data": {
      "text/plain": [
       "0.33333333333333615"
      ]
     },
     "execution_count": 39,
     "metadata": {},
     "output_type": "execute_result"
    }
   ],
   "source": [
    "b  = y_mean - (m*x_mean)\n",
    "b"
   ]
  },
  {
   "cell_type": "code",
   "execution_count": 40,
   "id": "689d76d3",
   "metadata": {},
   "outputs": [],
   "source": [
    "y_pred =m*x+b  # Pridicted Y variables"
   ]
  },
  {
   "cell_type": "code",
   "execution_count": 41,
   "id": "f1d1fb4d",
   "metadata": {},
   "outputs": [
    {
     "data": {
      "image/png": "[encoded data removed]",
      "text/plain": [
       "<Figure size 432x288 with 1 Axes>"
      ]
     },
     "metadata": {
      "needs_background": "light"
     },
     "output_type": "display_data"
    }
   ],
   "source": [
    "\n",
    "# poly1d_fn is now a function which takes in x and returns an estimate for y\n",
    "\n",
    "plt.plot(x,y, 'yo', x,np.array(y_pred), '--k') #'--k'=black dashed line, 'yo' = yellow circle marker\n",
    "\n",
    "plt.xlim(0, 5)\n",
    "plt.ylim(0, 12)\n",
    "plt.show()"
   ]
  },
  {
   "cell_type": "markdown",
   "id": "45254e41",
   "metadata": {},
   "source": [
    "# TASK 2"
   ]
  },
  {
   "cell_type": "markdown",
   "id": "24dd6d3e",
   "metadata": {},
   "source": [
    "### Import libraries"
   ]
  },
  {
   "cell_type": "code",
   "execution_count": 2,
   "id": "665a788e",
   "metadata": {},
   "outputs": [],
   "source": [
    "from sklearn import datasets\n",
    "from sklearn.preprocessing import StandardScaler\n",
    "from sklearn.preprocessing import MinMaxScaler\n",
    "from sklearn.preprocessing import normalize\n",
    "from sklearn.model_selection import train_test_split\n",
    "import pandas as pd \n",
    "from sklearn.datasets import load_boston\n",
    "import matplotlib.pyplot as plt\n",
    "import numpy as np\n",
    "import warnings"
   ]
  },
  {
   "cell_type": "markdown",
   "id": "76519d53",
   "metadata": {},
   "source": [
    "### Load The Boston DataSet Into X and y\n",
    "    "
   ]
  },
  {
   "cell_type": "code",
   "execution_count": 3,
   "id": "f7d9e65a",
   "metadata": {},
   "outputs": [],
   "source": [
    "with warnings.catch_warnings():\n",
    "  warnings.filterwarnings(\"ignore\")\n",
    "  X, y = load_boston(return_X_y=True)\n",
    "  data = np.column_stack((X,y))"
   ]
  },
  {
   "cell_type": "markdown",
   "id": "d8b19634",
   "metadata": {},
   "source": [
    "### DATA PREPARATION\n",
    "    1. Normalize the data for easier and faster computation\n",
    "    2. Seperate the into features and target\n",
    "    \n"
   ]
  },
  {
   "cell_type": "code",
   "execution_count": 4,
   "id": "d5def96a",
   "metadata": {},
   "outputs": [
    {
     "name": "stdout",
     "output_type": "stream",
     "text": [
      "(506, 13)\n"
     ]
    }
   ],
   "source": [
    "data = normalize(data, norm='l2')\n",
    "X = data[:,:13]  #input\n",
    "y = data[:,13]   #target\n",
    "print(X.shape)"
   ]
  },
  {
   "cell_type": "markdown",
   "id": "4bc758b2",
   "metadata": {},
   "source": [
    "### Create Class For the regression for Easier Code Format\n",
    "#### The Mean square error function is defined \n",
    "    1. deducts the predcted data from the actual data and takes its square (incase of negative)\n",
    "    2. takes the sum of all these and devides it by the total number of targets\n",
    "  PS: this is used to calculate the actual deviation (error) of the predicted values from the actual values , it can be used to deduce how well your algorithm performs \n",
    "  \n",
    "#### The Fit Function calculates the slope m $ slope (m) = \\frac {X^T y} {X^T X}  $\n",
    "\n",
    "#### The  Predict takes the slopes (weight) calculated and multiplies it by the input to get the prediction\n",
    "  \n"
   ]
  },
  {
   "cell_type": "code",
   "execution_count": 5,
   "id": "ca18f94b",
   "metadata": {},
   "outputs": [],
   "source": [
    "class LinearRegression:\n",
    "    '''\n",
    "    A class which implements linear regression model with gradient descent.\n",
    "    '''\n",
    "    def __init__(self):\n",
    "        \n",
    "        \n",
    "        self.m = None\n",
    "        self.loss = []\n",
    "        \n",
    "    @staticmethod\n",
    "    def _mean_squared_error(y, y_hat):\n",
    "        '''\n",
    "        Private method, used to evaluate loss at each iteration.\n",
    "        \n",
    "        :param: y - array, true values\n",
    "        :param: y_hat - array, predicted values\n",
    "        :return: float\n",
    "        '''\n",
    "        error = 0\n",
    "        for i in range(len(y)):\n",
    "            error += (y[i] - y_hat[i]) ** 2\n",
    "            # print(error)\n",
    "        return error / len(y)\n",
    "    \n",
    "    def fit(self, xTrain, yTrain):\n",
    "        a = np.linalg.inv((xTrain.T).dot(xTrain))\n",
    "        b = (xTrain.T).dot(yTrain)\n",
    "        self.m = a.dot(b)\n",
    "        \n",
    "\n",
    "        \n",
    "        \n",
    "    def predict(self, X):\n",
    "        '''\n",
    "        Makes predictions using the line equation.\n",
    "        \n",
    "        :param X: array, features\n",
    "        :return: array, predictions\n",
    "        '''\n",
    "        return  X.dot(self.m)  "
   ]
  },
  {
   "cell_type": "markdown",
   "id": "7c9e51b3",
   "metadata": {},
   "source": [
    "### Rearrage Data For Training"
   ]
  },
  {
   "cell_type": "code",
   "execution_count": 6,
   "id": "3c1fac51",
   "metadata": {},
   "outputs": [],
   "source": [
    "X_b = np.column_stack((np.ones((506, 0)), X))\n",
    "# rearrange data\n",
    "y = y.T\n",
    "xTrain = X_b[:450,:]\n",
    "yTrain = y[:450]\n",
    "\n",
    "xTest = X_b[-56:,:]\n",
    "yTest = y[-56:]"
   ]
  },
  {
   "cell_type": "markdown",
   "id": "3c1e4022",
   "metadata": {},
   "source": [
    "### Instantiate LinearRegression Class \n",
    "### fits it by calculating the slope (m)\n",
    "### Predict the test data"
   ]
  },
  {
   "cell_type": "code",
   "execution_count": 7,
   "id": "ce06ffa3",
   "metadata": {},
   "outputs": [],
   "source": [
    "model = LinearRegression()\n",
    "model.fit(xTrain, yTrain)\n",
    "preds = model.predict(xTrain)"
   ]
  },
  {
   "cell_type": "markdown",
   "id": "4b4ea9f5",
   "metadata": {},
   "source": [
    "### Plot the Model weights"
   ]
  },
  {
   "cell_type": "code",
   "execution_count": 8,
   "id": "a4c24faa",
   "metadata": {},
   "outputs": [
    {
     "data": {
      "image/png": "[encoded data removed]",
      "text/plain": [
       "<Figure size 432x288 with 1 Axes>"
      ]
     },
     "metadata": {
      "needs_background": "light"
     },
     "output_type": "display_data"
    }
   ],
   "source": [
    "\n",
    "xs = model.m\n",
    "\n",
    "plt.plot(xs, c='#087E8B')\n",
    "plt.show()"
   ]
  },
  {
   "cell_type": "markdown",
   "id": "649e9730",
   "metadata": {},
   "source": [
    "### Testing the Model on the Test Data Set"
   ]
  },
  {
   "cell_type": "code",
   "execution_count": 9,
   "id": "1e57dbaf",
   "metadata": {},
   "outputs": [],
   "source": [
    "\n",
    "preds = model.predict(xTest)\n",
    "\n",
    "#model._mean_squared_error(y_test, preds)"
   ]
  },
  {
   "cell_type": "code",
   "execution_count": 10,
   "id": "966b424b",
   "metadata": {},
   "outputs": [
    {
     "data": {
      "text/plain": [
       "array([0.02650397, 0.02929207, 0.02653597, 0.0358012 , 0.02512786,\n",
       "       0.02518197, 0.01810067, 0.01800359, 0.02587309, 0.02528338,\n",
       "       0.02992273, 0.02834236, 0.02768363, 0.03081828, 0.02742749,\n",
       "       0.0235971 , 0.01922431, 0.02255936, 0.02227177, 0.02269006,\n",
       "       0.02611488, 0.02821758, 0.02978639, 0.03609282, 0.01859596,\n",
       "       0.02273726, 0.02830925, 0.01387704, 0.0254161 , 0.02795029,\n",
       "       0.02923198, 0.0348764 , 0.03775245, 0.02515159, 0.0249635 ,\n",
       "       0.02938188, 0.02545856, 0.0263468 , 0.0127682 , 0.00935162,\n",
       "       0.00370833, 0.0169587 , 0.01895418, 0.03499238, 0.03709136,\n",
       "       0.03132494, 0.02430643, 0.03330292, 0.03780471, 0.03079048,\n",
       "       0.03639237, 0.05247299, 0.04601124, 0.05981061, 0.05655681,\n",
       "       0.04494799])"
      ]
     },
     "execution_count": 10,
     "metadata": {},
     "output_type": "execute_result"
    }
   ],
   "source": [
    "# Predicted Output\n",
    "preds"
   ]
  },
  {
   "cell_type": "markdown",
   "id": "31b9c85d",
   "metadata": {},
   "source": [
    "### Finding Input With Highest Weight"
   ]
  },
  {
   "cell_type": "code",
   "execution_count": 11,
   "id": "24dfc2da",
   "metadata": {},
   "outputs": [
    {
     "data": {
      "text/plain": [
       "(array([5]),)"
      ]
     },
     "execution_count": 11,
     "metadata": {},
     "output_type": "execute_result"
    }
   ],
   "source": [
    "np.where(model.m==max(model.m))"
   ]
  },
  {
   "cell_type": "code",
   "execution_count": 14,
   "id": "91c9029d",
   "metadata": {},
   "outputs": [
    {
     "data": {
      "text/plain": [
       "'RM'"
      ]
     },
     "execution_count": 14,
     "metadata": {},
     "output_type": "execute_result"
    }
   ],
   "source": [
    "with warnings.catch_warnings():\n",
    "  warnings.filterwarnings(\"ignore\")\n",
    "  boston = load_boston()\n",
    "boston.feature_names[5]\n",
    "# Feature name"
   ]
  },
  {
   "cell_type": "markdown",
   "id": "465f5b47",
   "metadata": {},
   "source": [
    "### Plotting Network Weight "
   ]
  },
  {
   "cell_type": "code",
   "execution_count": 42,
   "id": "7ee4746d",
   "metadata": {},
   "outputs": [
    {
     "data": {
      "image/png": "[encoded data removed]",
      "text/plain": [
       "<Figure size 640x320 with 1 Axes>"
      ]
     },
     "metadata": {
      "needs_background": "light"
     },
     "output_type": "display_data"
    }
   ],
   "source": [
    "plt.figure(figsize=(8, 4), dpi=80)\n",
    "plt.plot(yTest, 'r--', preds)\n",
    "plt.legend(['True Price', 'Predicted Price'], loc='upper left')\n",
    "plt.show()"
   ]
  },
  {
   "cell_type": "markdown",
   "id": "4ebc334d",
   "metadata": {},
   "source": [
    "#### Input with highest weight is RM"
   ]
  },
  {
   "cell_type": "code",
   "execution_count": null,
   "id": "cc30ffa3",
   "metadata": {},
   "outputs": [],
   "source": []
  },
  {
   "cell_type": "code",
   "execution_count": null,
   "id": "07b2f049",
   "metadata": {},
   "outputs": [],
   "source": []
  }
 ],
 "metadata": {
  "kernelspec": {
   "display_name": "Python 3 (ipykernel)",
   "language": "python",
   "name": "python3"
  },
  "language_info": {
   "codemirror_mode": {
    "name": "ipython",
    "version": 3
   },
   "file_extension": ".py",
   "mimetype": "text/x-python",
   "name": "python",
   "nbconvert_exporter": "python",
   "pygments_lexer": "ipython3",
   "version": "3.9.7"
  }
 },
 "nbformat": 4,
 "nbformat_minor": 5
}
