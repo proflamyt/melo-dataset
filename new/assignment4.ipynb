{
 "cells": [
  {
   "cell_type": "markdown",
   "metadata": {
    "id": "dlvp9kzp7PKD"
   },
   "source": [
    "#  **Deep Machine Learning Workshop 4**\n",
    "\n",
    "# Task 1 (Classification of MNIST Data using **Low** level API)"
   ]
  },
  {
   "cell_type": "markdown",
   "metadata": {
    "id": "Mp1Wjc6r7flr"
   },
   "source": [
    "# Machine Learning Steps\n",
    "\n",
    "\n",
    "1.   Import and parse the dataset.\n",
    "2.   Define Model\n",
    "3.   Define loss function (Compile Model)\n",
    "4.   Train Model (Fit Model)\n",
    "5.   Evaulate Model (Optional Validation)   \n",
    "6.   Test Model (Prediction using Trained model)\n"
   ]
  },
  {
   "cell_type": "markdown",
   "metadata": {},
   "source": [
    "## Import Tensorflow , numpy and metasploit libraries"
   ]
  },
  {
   "cell_type": "code",
   "execution_count": 3,
   "metadata": {
    "id": "4W_lEVMonguz"
   },
   "outputs": [
    {
     "name": "stderr",
     "output_type": "stream",
     "text": [
      "2022-01-09 18:13:16.454997: W tensorflow/stream_executor/platform/default/dso_loader.cc:64] Could not load dynamic library 'libcudart.so.11.0'; dlerror: libcudart.so.11.0: cannot open shared object file: No such file or directory\n",
      "2022-01-09 18:13:16.455020: I tensorflow/stream_executor/cuda/cudart_stub.cc:29] Ignore above cudart dlerror if you do not have a GPU set up on your machine.\n"
     ]
    }
   ],
   "source": [
    "import tensorflow as tf\n",
    "import numpy as np\n",
    "from tensorflow.keras.datasets import mnist\n",
    "from matplotlib import pyplot as plt\n"
   ]
  },
  {
   "cell_type": "markdown",
   "metadata": {},
   "source": [
    "### Define learning rate (how quickly it approches the optimum ) *lr\n",
    "\n",
    "### Batch size number of training examples in one forward/backward propagation. The higher the batch size, the more memory space you'll need\n",
    "\n",
    "### Steps (Number of times it takes to train the model "
   ]
  },
  {
   "cell_type": "code",
   "execution_count": 4,
   "metadata": {
    "id": "h0gCW8ANnmrA"
   },
   "outputs": [],
   "source": [
    "\n",
    "numClasses = 10\n",
    "numFeatures = 784\n",
    "\n",
    "lr = 0.15\n",
    "steps = 5000\n",
    "batchSize = 256\n",
    "iStep = 10\n",
    "\n"
   ]
  },
  {
   "cell_type": "markdown",
   "metadata": {
    "id": "pSzhtVZC_VS9"
   },
   "source": [
    "# Data\n",
    "\n",
    "## 1. Seprating the data into Training and Testing Data \n",
    "\n",
    "## 2. Reshape data to feature size\n",
    "\n",
    "## 3. Normalize the Data ( By Byte, Representing Each pixels with numbers between 1 and 0)\n",
    "    This is adviced for easier and lesser memory and time consuming computation"
   ]
  },
  {
   "cell_type": "code",
   "execution_count": 5,
   "metadata": {
    "colab": {
     "base_uri": "https://localhost:8080/"
    },
    "id": "xdu1GgJCnpQz",
    "outputId": "b831765d-3d08-4efb-d50a-99a7eebaf21b"
   },
   "outputs": [
    {
     "name": "stdout",
     "output_type": "stream",
     "text": [
      "(60000, 784) (10000, 784)\n"
     ]
    }
   ],
   "source": [
    "# MNIST data\n",
    "(xTrain, yTrain),(xTest, yTest) = mnist.load_data()\n",
    "xTrain, xTest = np.array(xTrain, np.float32), np.array(xTest, np.float32)\n",
    "xTrain, xTest = xTrain.reshape([-1,numFeatures]), xTest.reshape([-1,numFeatures])\n",
    "xTrain, xTest = xTrain/255., xTest/255.\n",
    "print(xTrain.shape, xTest.shape)"
   ]
  },
  {
   "cell_type": "markdown",
   "metadata": {},
   "source": [
    "## 1. Turn Train Data Into Slices and Shuffle \n",
    "### 2. initialize weights to 1 and bias to 0. weights will be updated during training\n",
    "        This is the starting point for the optimization "
   ]
  },
  {
   "cell_type": "code",
   "execution_count": 6,
   "metadata": {
    "id": "FUem2LZwnrd5"
   },
   "outputs": [
    {
     "name": "stderr",
     "output_type": "stream",
     "text": [
      "2022-01-09 18:13:22.316206: W tensorflow/stream_executor/platform/default/dso_loader.cc:64] Could not load dynamic library 'libcuda.so.1'; dlerror: libcuda.so.1: cannot open shared object file: No such file or directory\n",
      "2022-01-09 18:13:22.316270: W tensorflow/stream_executor/cuda/cuda_driver.cc:269] failed call to cuInit: UNKNOWN ERROR (303)\n",
      "2022-01-09 18:13:22.316326: I tensorflow/stream_executor/cuda/cuda_diagnostics.cc:156] kernel driver does not appear to be running on this host (olamide): /proc/driver/nvidia/version does not exist\n",
      "2022-01-09 18:13:22.320973: I tensorflow/core/platform/cpu_feature_guard.cc:151] This TensorFlow binary is optimized with oneAPI Deep Neural Network Library (oneDNN) to use the following CPU instructions in performance-critical operations:  AVX2 FMA\n",
      "To enable them in other operations, rebuild TensorFlow with the appropriate compiler flags.\n"
     ]
    }
   ],
   "source": [
    "\n",
    "# Shuffle and Batch\n",
    "trainData = tf.data.Dataset.from_tensor_slices((xTrain,yTrain))\n",
    "trainData = trainData.repeat().shuffle(5000).batch(batchSize).prefetch(1)\n",
    "\n",
    "# Weights\n",
    "W = tf.Variable(tf.ones([numFeatures, numClasses]), name = \"weights\")\n",
    "b = tf.Variable(tf.zeros([numClasses]), name = \"bias\" )"
   ]
  },
  {
   "cell_type": "markdown",
   "metadata": {
    "id": "NjuHTkL3_ZUt"
   },
   "source": [
    "# Model"
   ]
  },
  {
   "cell_type": "markdown",
   "metadata": {},
   "source": [
    "### Define Activation Function (Softmax) :\n",
    "* This is used in multiclass classifications, Stays At the end of the blackbox to classify to diffrent classes based on their probability . picks the the class with the highest probability"
   ]
  },
  {
   "cell_type": "code",
   "execution_count": 7,
   "metadata": {
    "id": "hdsDK2mrnur8"
   },
   "outputs": [],
   "source": [
    "def network(x):\n",
    "    return tf.nn.softmax(tf.matmul(x,W)+b)"
   ]
  },
  {
   "cell_type": "markdown",
   "metadata": {
    "id": "Qm4Gck_A_aVS"
   },
   "source": [
    "# Loss"
   ]
  },
  {
   "cell_type": "code",
   "execution_count": 8,
   "metadata": {
    "id": "tE84atF6-evZ"
   },
   "outputs": [],
   "source": [
    "def crossEntropy(y_pred, y_true):\n",
    "    y_true = tf.one_hot(y_true, depth=numClasses)\n",
    "    y_pred = tf.clip_by_value(y_pred, 1e-9,1.)\n",
    "    return tf.reduce_mean(tf.square(y_pred- y_true))\n",
    "    #return tf.reduce_mean(-tf.reduce_sum(y_true*tf.math.log(y_pred),1))"
   ]
  },
  {
   "cell_type": "markdown",
   "metadata": {
    "id": "uphWEXsi_ce2"
   },
   "source": [
    "# Metrics\n",
    "    "
   ]
  },
  {
   "cell_type": "markdown",
   "metadata": {},
   "source": [
    "### Defines Metrics for Accuracy \n",
    "    * Compares the predicted values with the actual values and take its mean"
   ]
  },
  {
   "cell_type": "code",
   "execution_count": 9,
   "metadata": {
    "id": "7OLs03v6-gPA"
   },
   "outputs": [],
   "source": [
    "def accuracy(y_pred, y_true):\n",
    "    correctedPred = tf.equal(tf.argmax(y_pred, 1), tf.cast(y_true, tf.int64))\n",
    "    return tf.reduce_mean(tf.cast(correctedPred, tf.float32))"
   ]
  },
  {
   "cell_type": "markdown",
   "metadata": {
    "id": "qYVvk0SP_m-1"
   },
   "source": [
    "# Training (Gradient)"
   ]
  },
  {
   "cell_type": "markdown",
   "metadata": {},
   "source": [
    "### Training The Data By Running Updating the weights and bias using stocastic gradient descent\n",
    "    * 1. Initializing a stochastic gradient descent optimizer with the learning rate declared earlier\n",
    "    * 2. Predict with Softmax \n",
    "    * 3. Check the loss with crossEntropy function\n",
    "    * 4. Generate gradient \n",
    "    * 5. update optimizer with the new gradient\n",
    "    \n",
    "    \n"
   ]
  },
  {
   "cell_type": "code",
   "execution_count": 10,
   "metadata": {
    "id": "ClwRsUcI-iRH"
   },
   "outputs": [],
   "source": [
    "optimizer = tf.optimizers.SGD(lr)\n",
    "def runOptimization(x, y):\n",
    "    #print(x.shape, y.shape)\n",
    "    with tf.GradientTape() as g:\n",
    "        pred = network(x)\n",
    "        loss = crossEntropy(pred, y)\n",
    "\n",
    "    gradients = g.gradient(loss, [W, b])\n",
    "    # print(gradients)\n",
    "    optimizer.apply_gradients(zip(gradients, [W, b]))\n",
    "    return loss, pred"
   ]
  },
  {
   "cell_type": "markdown",
   "metadata": {
    "id": "SzUQvZif_uYq"
   },
   "source": [
    "# Training Loop using Data"
   ]
  },
  {
   "cell_type": "markdown",
   "metadata": {},
   "source": [
    "### Train Data\n",
    "    1. Updates weight step times , and check accuracy every 10 times , while storing the losses\n",
    "    \n",
    "####  Feedforward Propagation\n",
    "    The model optimize its weghts and bias by using this.first, the training data is run into the forward direction through the network. the next layer accepts the input data, processes through the softmax activation function and passes to the weight computed forward for optimization.\n",
    "    \n",
    "#### Backpropagation\n",
    "    This is optimizing the weights and bias by using the error computed in the previous iteration , it uses the crossentropy function as the cost funtion, the gradient descent tells which direction to optimize the weight"
   ]
  },
  {
   "cell_type": "code",
   "execution_count": 11,
   "metadata": {
    "id": "0tkScLw3nxDp"
   },
   "outputs": [
    {
     "name": "stdout",
     "output_type": "stream",
     "text": [
      "step: 10, loss: 0.089424, accuracy: 0.589844\n",
      "step: 20, loss: 0.088724, accuracy: 0.691406\n",
      "step: 30, loss: 0.087948, accuracy: 0.683594\n",
      "step: 40, loss: 0.087226, accuracy: 0.605469\n",
      "step: 50, loss: 0.086303, accuracy: 0.617188\n",
      "step: 60, loss: 0.085507, accuracy: 0.632812\n",
      "step: 70, loss: 0.084361, accuracy: 0.625000\n",
      "step: 80, loss: 0.083618, accuracy: 0.613281\n",
      "step: 90, loss: 0.083098, accuracy: 0.632812\n",
      "step: 100, loss: 0.081048, accuracy: 0.640625\n",
      "step: 110, loss: 0.081423, accuracy: 0.632812\n",
      "step: 120, loss: 0.079893, accuracy: 0.593750\n",
      "step: 130, loss: 0.078920, accuracy: 0.609375\n",
      "step: 140, loss: 0.076659, accuracy: 0.613281\n",
      "step: 150, loss: 0.076303, accuracy: 0.640625\n",
      "step: 160, loss: 0.075680, accuracy: 0.632812\n",
      "step: 170, loss: 0.074265, accuracy: 0.632812\n",
      "step: 180, loss: 0.071894, accuracy: 0.671875\n",
      "step: 190, loss: 0.070008, accuracy: 0.726562\n",
      "step: 200, loss: 0.071608, accuracy: 0.667969\n",
      "step: 210, loss: 0.069475, accuracy: 0.660156\n",
      "step: 220, loss: 0.068880, accuracy: 0.656250\n",
      "step: 230, loss: 0.067362, accuracy: 0.683594\n",
      "step: 240, loss: 0.064110, accuracy: 0.718750\n",
      "step: 250, loss: 0.065261, accuracy: 0.699219\n",
      "step: 260, loss: 0.064686, accuracy: 0.667969\n",
      "step: 270, loss: 0.062130, accuracy: 0.656250\n",
      "step: 280, loss: 0.064206, accuracy: 0.632812\n",
      "step: 290, loss: 0.057115, accuracy: 0.777344\n",
      "step: 300, loss: 0.062088, accuracy: 0.664062\n",
      "step: 310, loss: 0.056203, accuracy: 0.750000\n",
      "step: 320, loss: 0.060658, accuracy: 0.679688\n",
      "step: 330, loss: 0.054427, accuracy: 0.785156\n",
      "step: 340, loss: 0.054155, accuracy: 0.757812\n",
      "step: 350, loss: 0.058779, accuracy: 0.703125\n",
      "step: 360, loss: 0.057880, accuracy: 0.710938\n",
      "step: 370, loss: 0.053064, accuracy: 0.781250\n",
      "step: 380, loss: 0.054889, accuracy: 0.687500\n",
      "step: 390, loss: 0.054331, accuracy: 0.714844\n",
      "step: 400, loss: 0.053856, accuracy: 0.753906\n",
      "step: 410, loss: 0.051734, accuracy: 0.773438\n",
      "step: 420, loss: 0.052178, accuracy: 0.726562\n",
      "step: 430, loss: 0.051457, accuracy: 0.730469\n",
      "step: 440, loss: 0.048201, accuracy: 0.789062\n",
      "step: 450, loss: 0.047881, accuracy: 0.753906\n",
      "step: 460, loss: 0.048922, accuracy: 0.726562\n",
      "step: 470, loss: 0.049743, accuracy: 0.710938\n",
      "step: 480, loss: 0.046928, accuracy: 0.769531\n",
      "step: 490, loss: 0.044982, accuracy: 0.789062\n",
      "step: 500, loss: 0.045097, accuracy: 0.769531\n",
      "step: 510, loss: 0.045452, accuracy: 0.796875\n",
      "step: 520, loss: 0.045958, accuracy: 0.746094\n",
      "step: 530, loss: 0.044234, accuracy: 0.789062\n",
      "step: 540, loss: 0.045558, accuracy: 0.769531\n",
      "step: 550, loss: 0.044143, accuracy: 0.773438\n",
      "step: 560, loss: 0.044650, accuracy: 0.765625\n",
      "step: 570, loss: 0.042611, accuracy: 0.769531\n",
      "step: 580, loss: 0.043358, accuracy: 0.789062\n",
      "step: 590, loss: 0.043764, accuracy: 0.785156\n",
      "step: 600, loss: 0.043647, accuracy: 0.757812\n",
      "step: 610, loss: 0.039732, accuracy: 0.832031\n",
      "step: 620, loss: 0.043458, accuracy: 0.792969\n",
      "step: 630, loss: 0.042916, accuracy: 0.777344\n",
      "step: 640, loss: 0.039801, accuracy: 0.832031\n",
      "step: 650, loss: 0.041326, accuracy: 0.808594\n",
      "step: 660, loss: 0.039947, accuracy: 0.816406\n",
      "step: 670, loss: 0.039067, accuracy: 0.804688\n",
      "step: 680, loss: 0.040459, accuracy: 0.785156\n",
      "step: 690, loss: 0.039428, accuracy: 0.796875\n",
      "step: 700, loss: 0.036500, accuracy: 0.871094\n",
      "step: 710, loss: 0.036842, accuracy: 0.843750\n",
      "step: 720, loss: 0.039841, accuracy: 0.789062\n",
      "step: 730, loss: 0.037374, accuracy: 0.839844\n",
      "step: 740, loss: 0.035626, accuracy: 0.867188\n",
      "step: 750, loss: 0.039506, accuracy: 0.792969\n",
      "step: 760, loss: 0.040701, accuracy: 0.781250\n",
      "step: 770, loss: 0.037084, accuracy: 0.839844\n",
      "step: 780, loss: 0.034464, accuracy: 0.851562\n",
      "step: 790, loss: 0.040003, accuracy: 0.808594\n",
      "step: 800, loss: 0.037320, accuracy: 0.812500\n",
      "step: 810, loss: 0.039250, accuracy: 0.816406\n",
      "step: 820, loss: 0.036668, accuracy: 0.863281\n",
      "step: 830, loss: 0.037334, accuracy: 0.808594\n",
      "step: 840, loss: 0.035311, accuracy: 0.839844\n",
      "step: 850, loss: 0.033615, accuracy: 0.855469\n",
      "step: 860, loss: 0.036609, accuracy: 0.808594\n",
      "step: 870, loss: 0.035652, accuracy: 0.843750\n",
      "step: 880, loss: 0.032516, accuracy: 0.855469\n",
      "step: 890, loss: 0.030855, accuracy: 0.878906\n",
      "step: 900, loss: 0.035891, accuracy: 0.785156\n",
      "step: 910, loss: 0.032999, accuracy: 0.832031\n",
      "step: 920, loss: 0.028897, accuracy: 0.898438\n",
      "step: 930, loss: 0.035873, accuracy: 0.824219\n",
      "step: 940, loss: 0.030992, accuracy: 0.855469\n",
      "step: 950, loss: 0.029337, accuracy: 0.851562\n",
      "step: 960, loss: 0.032054, accuracy: 0.847656\n",
      "step: 970, loss: 0.032362, accuracy: 0.843750\n",
      "step: 980, loss: 0.034574, accuracy: 0.828125\n",
      "step: 990, loss: 0.033815, accuracy: 0.835938\n",
      "step: 1000, loss: 0.033451, accuracy: 0.820312\n",
      "step: 1010, loss: 0.028649, accuracy: 0.878906\n",
      "step: 1020, loss: 0.033684, accuracy: 0.816406\n",
      "step: 1030, loss: 0.035854, accuracy: 0.796875\n",
      "step: 1040, loss: 0.030533, accuracy: 0.859375\n",
      "step: 1050, loss: 0.031951, accuracy: 0.839844\n",
      "step: 1060, loss: 0.033434, accuracy: 0.839844\n",
      "step: 1070, loss: 0.028906, accuracy: 0.882812\n",
      "step: 1080, loss: 0.032501, accuracy: 0.859375\n",
      "step: 1090, loss: 0.031939, accuracy: 0.839844\n",
      "step: 1100, loss: 0.030041, accuracy: 0.828125\n",
      "step: 1110, loss: 0.026938, accuracy: 0.875000\n",
      "step: 1120, loss: 0.029568, accuracy: 0.835938\n",
      "step: 1130, loss: 0.028792, accuracy: 0.875000\n",
      "step: 1140, loss: 0.026224, accuracy: 0.882812\n",
      "step: 1150, loss: 0.030159, accuracy: 0.843750\n",
      "step: 1160, loss: 0.030303, accuracy: 0.839844\n",
      "step: 1170, loss: 0.030432, accuracy: 0.835938\n",
      "step: 1180, loss: 0.026232, accuracy: 0.871094\n",
      "step: 1190, loss: 0.030535, accuracy: 0.839844\n",
      "step: 1200, loss: 0.028209, accuracy: 0.867188\n",
      "step: 1210, loss: 0.025996, accuracy: 0.898438\n",
      "step: 1220, loss: 0.030274, accuracy: 0.859375\n",
      "step: 1230, loss: 0.029599, accuracy: 0.832031\n",
      "step: 1240, loss: 0.028525, accuracy: 0.847656\n",
      "step: 1250, loss: 0.028025, accuracy: 0.863281\n",
      "step: 1260, loss: 0.028520, accuracy: 0.855469\n",
      "step: 1270, loss: 0.030733, accuracy: 0.839844\n",
      "step: 1280, loss: 0.032895, accuracy: 0.824219\n",
      "step: 1290, loss: 0.033770, accuracy: 0.816406\n",
      "step: 1300, loss: 0.032486, accuracy: 0.824219\n",
      "step: 1310, loss: 0.030831, accuracy: 0.828125\n",
      "step: 1320, loss: 0.028032, accuracy: 0.859375\n",
      "step: 1330, loss: 0.030350, accuracy: 0.816406\n",
      "step: 1340, loss: 0.030495, accuracy: 0.882812\n",
      "step: 1350, loss: 0.029445, accuracy: 0.839844\n",
      "step: 1360, loss: 0.032290, accuracy: 0.800781\n",
      "step: 1370, loss: 0.027848, accuracy: 0.847656\n",
      "step: 1380, loss: 0.025508, accuracy: 0.871094\n",
      "step: 1390, loss: 0.026310, accuracy: 0.847656\n",
      "step: 1400, loss: 0.024618, accuracy: 0.878906\n",
      "step: 1410, loss: 0.028519, accuracy: 0.843750\n",
      "step: 1420, loss: 0.023917, accuracy: 0.882812\n",
      "step: 1430, loss: 0.026391, accuracy: 0.878906\n",
      "step: 1440, loss: 0.026500, accuracy: 0.859375\n",
      "step: 1450, loss: 0.025074, accuracy: 0.875000\n",
      "step: 1460, loss: 0.026733, accuracy: 0.859375\n",
      "step: 1470, loss: 0.028381, accuracy: 0.851562\n",
      "step: 1480, loss: 0.028942, accuracy: 0.851562\n",
      "step: 1490, loss: 0.026503, accuracy: 0.835938\n",
      "step: 1500, loss: 0.025802, accuracy: 0.878906\n",
      "step: 1510, loss: 0.029576, accuracy: 0.820312\n",
      "step: 1520, loss: 0.029386, accuracy: 0.820312\n",
      "step: 1530, loss: 0.025474, accuracy: 0.902344\n",
      "step: 1540, loss: 0.027066, accuracy: 0.855469\n",
      "step: 1550, loss: 0.027963, accuracy: 0.855469\n",
      "step: 1560, loss: 0.027094, accuracy: 0.863281\n",
      "step: 1570, loss: 0.027744, accuracy: 0.847656\n",
      "step: 1580, loss: 0.026795, accuracy: 0.886719\n",
      "step: 1590, loss: 0.027475, accuracy: 0.863281\n",
      "step: 1600, loss: 0.027671, accuracy: 0.843750\n",
      "step: 1610, loss: 0.024744, accuracy: 0.843750\n",
      "step: 1620, loss: 0.022579, accuracy: 0.894531\n",
      "step: 1630, loss: 0.025507, accuracy: 0.867188\n",
      "step: 1640, loss: 0.025469, accuracy: 0.863281\n",
      "step: 1650, loss: 0.025949, accuracy: 0.867188\n",
      "step: 1660, loss: 0.028247, accuracy: 0.835938\n",
      "step: 1670, loss: 0.024013, accuracy: 0.875000\n",
      "step: 1680, loss: 0.028430, accuracy: 0.824219\n",
      "step: 1690, loss: 0.024737, accuracy: 0.871094\n",
      "step: 1700, loss: 0.028059, accuracy: 0.828125\n",
      "step: 1710, loss: 0.027658, accuracy: 0.851562\n",
      "step: 1720, loss: 0.025166, accuracy: 0.875000\n",
      "step: 1730, loss: 0.025617, accuracy: 0.859375\n",
      "step: 1740, loss: 0.024166, accuracy: 0.867188\n",
      "step: 1750, loss: 0.024532, accuracy: 0.894531\n",
      "step: 1760, loss: 0.023938, accuracy: 0.875000\n",
      "step: 1770, loss: 0.025661, accuracy: 0.859375\n",
      "step: 1780, loss: 0.024805, accuracy: 0.882812\n",
      "step: 1790, loss: 0.025892, accuracy: 0.867188\n"
     ]
    },
    {
     "name": "stdout",
     "output_type": "stream",
     "text": [
      "step: 1800, loss: 0.023088, accuracy: 0.871094\n",
      "step: 1810, loss: 0.028145, accuracy: 0.835938\n",
      "step: 1820, loss: 0.026951, accuracy: 0.859375\n",
      "step: 1830, loss: 0.026187, accuracy: 0.855469\n",
      "step: 1840, loss: 0.022815, accuracy: 0.898438\n",
      "step: 1850, loss: 0.024673, accuracy: 0.855469\n",
      "step: 1860, loss: 0.021150, accuracy: 0.886719\n",
      "step: 1870, loss: 0.022389, accuracy: 0.890625\n",
      "step: 1880, loss: 0.019860, accuracy: 0.902344\n",
      "step: 1890, loss: 0.022310, accuracy: 0.894531\n",
      "step: 1900, loss: 0.021284, accuracy: 0.902344\n",
      "step: 1910, loss: 0.024146, accuracy: 0.847656\n",
      "step: 1920, loss: 0.024154, accuracy: 0.871094\n",
      "step: 1930, loss: 0.023442, accuracy: 0.878906\n",
      "step: 1940, loss: 0.021578, accuracy: 0.894531\n",
      "step: 1950, loss: 0.024121, accuracy: 0.878906\n",
      "step: 1960, loss: 0.024536, accuracy: 0.882812\n",
      "step: 1970, loss: 0.023149, accuracy: 0.867188\n",
      "step: 1980, loss: 0.024430, accuracy: 0.855469\n",
      "step: 1990, loss: 0.027363, accuracy: 0.839844\n",
      "step: 2000, loss: 0.024874, accuracy: 0.867188\n",
      "step: 2010, loss: 0.021840, accuracy: 0.890625\n",
      "step: 2020, loss: 0.028339, accuracy: 0.835938\n",
      "step: 2030, loss: 0.026545, accuracy: 0.820312\n",
      "step: 2040, loss: 0.023628, accuracy: 0.886719\n",
      "step: 2050, loss: 0.026949, accuracy: 0.835938\n",
      "step: 2060, loss: 0.025225, accuracy: 0.855469\n",
      "step: 2070, loss: 0.020978, accuracy: 0.886719\n",
      "step: 2080, loss: 0.021155, accuracy: 0.898438\n",
      "step: 2090, loss: 0.022210, accuracy: 0.890625\n",
      "step: 2100, loss: 0.023469, accuracy: 0.863281\n",
      "step: 2110, loss: 0.021559, accuracy: 0.894531\n",
      "step: 2120, loss: 0.025306, accuracy: 0.855469\n",
      "step: 2130, loss: 0.023916, accuracy: 0.871094\n",
      "step: 2140, loss: 0.024914, accuracy: 0.843750\n",
      "step: 2150, loss: 0.021956, accuracy: 0.875000\n",
      "step: 2160, loss: 0.025085, accuracy: 0.863281\n",
      "step: 2170, loss: 0.022734, accuracy: 0.871094\n",
      "step: 2180, loss: 0.024725, accuracy: 0.871094\n",
      "step: 2190, loss: 0.023085, accuracy: 0.894531\n",
      "step: 2200, loss: 0.023152, accuracy: 0.886719\n",
      "step: 2210, loss: 0.025278, accuracy: 0.851562\n",
      "step: 2220, loss: 0.019217, accuracy: 0.914062\n",
      "step: 2230, loss: 0.026648, accuracy: 0.863281\n",
      "step: 2240, loss: 0.023244, accuracy: 0.871094\n",
      "step: 2250, loss: 0.021798, accuracy: 0.890625\n",
      "step: 2260, loss: 0.024182, accuracy: 0.851562\n",
      "step: 2270, loss: 0.025801, accuracy: 0.843750\n",
      "step: 2280, loss: 0.024904, accuracy: 0.859375\n",
      "step: 2290, loss: 0.026304, accuracy: 0.832031\n",
      "step: 2300, loss: 0.022552, accuracy: 0.902344\n",
      "step: 2310, loss: 0.023619, accuracy: 0.871094\n",
      "step: 2320, loss: 0.019631, accuracy: 0.917969\n",
      "step: 2330, loss: 0.021045, accuracy: 0.886719\n",
      "step: 2340, loss: 0.022072, accuracy: 0.867188\n",
      "step: 2350, loss: 0.022793, accuracy: 0.878906\n",
      "step: 2360, loss: 0.017933, accuracy: 0.910156\n",
      "step: 2370, loss: 0.020689, accuracy: 0.906250\n",
      "step: 2380, loss: 0.024195, accuracy: 0.851562\n",
      "step: 2390, loss: 0.024895, accuracy: 0.855469\n",
      "step: 2400, loss: 0.020862, accuracy: 0.890625\n",
      "step: 2410, loss: 0.022569, accuracy: 0.875000\n",
      "step: 2420, loss: 0.022643, accuracy: 0.878906\n",
      "step: 2430, loss: 0.024474, accuracy: 0.839844\n",
      "step: 2440, loss: 0.025364, accuracy: 0.855469\n",
      "step: 2450, loss: 0.024105, accuracy: 0.875000\n",
      "step: 2460, loss: 0.020438, accuracy: 0.894531\n",
      "step: 2470, loss: 0.022545, accuracy: 0.882812\n",
      "step: 2480, loss: 0.020086, accuracy: 0.910156\n",
      "step: 2490, loss: 0.020429, accuracy: 0.910156\n",
      "step: 2500, loss: 0.022402, accuracy: 0.882812\n",
      "step: 2510, loss: 0.022845, accuracy: 0.886719\n",
      "step: 2520, loss: 0.021553, accuracy: 0.902344\n",
      "step: 2530, loss: 0.024163, accuracy: 0.847656\n",
      "step: 2540, loss: 0.021064, accuracy: 0.878906\n",
      "step: 2550, loss: 0.018345, accuracy: 0.914062\n",
      "step: 2560, loss: 0.022395, accuracy: 0.875000\n",
      "step: 2570, loss: 0.021135, accuracy: 0.902344\n",
      "step: 2580, loss: 0.019813, accuracy: 0.902344\n",
      "step: 2590, loss: 0.019321, accuracy: 0.898438\n",
      "step: 2600, loss: 0.020139, accuracy: 0.894531\n",
      "step: 2610, loss: 0.020784, accuracy: 0.878906\n",
      "step: 2620, loss: 0.023523, accuracy: 0.867188\n",
      "step: 2630, loss: 0.023538, accuracy: 0.871094\n",
      "step: 2640, loss: 0.023428, accuracy: 0.867188\n",
      "step: 2650, loss: 0.021376, accuracy: 0.882812\n",
      "step: 2660, loss: 0.021025, accuracy: 0.890625\n",
      "step: 2670, loss: 0.022934, accuracy: 0.871094\n",
      "step: 2680, loss: 0.023490, accuracy: 0.867188\n",
      "step: 2690, loss: 0.019848, accuracy: 0.890625\n",
      "step: 2700, loss: 0.021444, accuracy: 0.871094\n",
      "step: 2710, loss: 0.024981, accuracy: 0.847656\n",
      "step: 2720, loss: 0.023841, accuracy: 0.859375\n",
      "step: 2730, loss: 0.022286, accuracy: 0.871094\n",
      "step: 2740, loss: 0.022891, accuracy: 0.875000\n",
      "step: 2750, loss: 0.019207, accuracy: 0.882812\n",
      "step: 2760, loss: 0.020447, accuracy: 0.875000\n",
      "step: 2770, loss: 0.022982, accuracy: 0.894531\n",
      "step: 2780, loss: 0.020294, accuracy: 0.882812\n",
      "step: 2790, loss: 0.015295, accuracy: 0.925781\n",
      "step: 2800, loss: 0.022087, accuracy: 0.875000\n",
      "step: 2810, loss: 0.021250, accuracy: 0.875000\n",
      "step: 2820, loss: 0.016563, accuracy: 0.914062\n",
      "step: 2830, loss: 0.020759, accuracy: 0.878906\n",
      "step: 2840, loss: 0.024726, accuracy: 0.859375\n",
      "step: 2850, loss: 0.025898, accuracy: 0.832031\n",
      "step: 2860, loss: 0.020119, accuracy: 0.894531\n",
      "step: 2870, loss: 0.023752, accuracy: 0.859375\n",
      "step: 2880, loss: 0.022014, accuracy: 0.859375\n",
      "step: 2890, loss: 0.019554, accuracy: 0.878906\n",
      "step: 2900, loss: 0.018115, accuracy: 0.894531\n",
      "step: 2910, loss: 0.019203, accuracy: 0.898438\n",
      "step: 2920, loss: 0.020679, accuracy: 0.882812\n",
      "step: 2930, loss: 0.022422, accuracy: 0.859375\n",
      "step: 2940, loss: 0.027406, accuracy: 0.835938\n",
      "step: 2950, loss: 0.022169, accuracy: 0.878906\n",
      "step: 2960, loss: 0.022896, accuracy: 0.863281\n",
      "step: 2970, loss: 0.021973, accuracy: 0.875000\n",
      "step: 2980, loss: 0.020655, accuracy: 0.890625\n",
      "step: 2990, loss: 0.023617, accuracy: 0.839844\n",
      "step: 3000, loss: 0.026157, accuracy: 0.843750\n",
      "step: 3010, loss: 0.020266, accuracy: 0.882812\n",
      "step: 3020, loss: 0.021852, accuracy: 0.871094\n",
      "step: 3030, loss: 0.021135, accuracy: 0.867188\n",
      "step: 3040, loss: 0.017424, accuracy: 0.921875\n",
      "step: 3050, loss: 0.016900, accuracy: 0.921875\n",
      "step: 3060, loss: 0.018188, accuracy: 0.914062\n",
      "step: 3070, loss: 0.018713, accuracy: 0.894531\n",
      "step: 3080, loss: 0.022013, accuracy: 0.871094\n",
      "step: 3090, loss: 0.021313, accuracy: 0.886719\n",
      "step: 3100, loss: 0.018038, accuracy: 0.898438\n",
      "step: 3110, loss: 0.017026, accuracy: 0.929688\n",
      "step: 3120, loss: 0.019832, accuracy: 0.882812\n",
      "step: 3130, loss: 0.021106, accuracy: 0.867188\n",
      "step: 3140, loss: 0.020322, accuracy: 0.875000\n",
      "step: 3150, loss: 0.018989, accuracy: 0.906250\n",
      "step: 3160, loss: 0.021085, accuracy: 0.890625\n",
      "step: 3170, loss: 0.024532, accuracy: 0.851562\n",
      "step: 3180, loss: 0.017824, accuracy: 0.917969\n",
      "step: 3190, loss: 0.021597, accuracy: 0.878906\n",
      "step: 3200, loss: 0.016433, accuracy: 0.902344\n",
      "step: 3210, loss: 0.021458, accuracy: 0.875000\n",
      "step: 3220, loss: 0.021842, accuracy: 0.867188\n",
      "step: 3230, loss: 0.021195, accuracy: 0.871094\n",
      "step: 3240, loss: 0.017582, accuracy: 0.917969\n",
      "step: 3250, loss: 0.016340, accuracy: 0.921875\n",
      "step: 3260, loss: 0.019079, accuracy: 0.886719\n",
      "step: 3270, loss: 0.017821, accuracy: 0.902344\n",
      "step: 3280, loss: 0.020748, accuracy: 0.871094\n",
      "step: 3290, loss: 0.019373, accuracy: 0.875000\n",
      "step: 3300, loss: 0.019170, accuracy: 0.890625\n",
      "step: 3310, loss: 0.017386, accuracy: 0.929688\n",
      "step: 3320, loss: 0.022532, accuracy: 0.863281\n",
      "step: 3330, loss: 0.021979, accuracy: 0.851562\n",
      "step: 3340, loss: 0.021972, accuracy: 0.886719\n",
      "step: 3350, loss: 0.016364, accuracy: 0.929688\n",
      "step: 3360, loss: 0.016813, accuracy: 0.933594\n",
      "step: 3370, loss: 0.022652, accuracy: 0.871094\n",
      "step: 3380, loss: 0.021046, accuracy: 0.871094\n",
      "step: 3390, loss: 0.025760, accuracy: 0.835938\n",
      "step: 3400, loss: 0.019289, accuracy: 0.890625\n",
      "step: 3410, loss: 0.020333, accuracy: 0.878906\n",
      "step: 3420, loss: 0.020274, accuracy: 0.875000\n",
      "step: 3430, loss: 0.018463, accuracy: 0.910156\n",
      "step: 3440, loss: 0.018442, accuracy: 0.902344\n",
      "step: 3450, loss: 0.018461, accuracy: 0.917969\n",
      "step: 3460, loss: 0.019866, accuracy: 0.878906\n",
      "step: 3470, loss: 0.024859, accuracy: 0.855469\n",
      "step: 3480, loss: 0.020727, accuracy: 0.882812\n",
      "step: 3490, loss: 0.019184, accuracy: 0.890625\n",
      "step: 3500, loss: 0.017129, accuracy: 0.894531\n",
      "step: 3510, loss: 0.018003, accuracy: 0.878906\n",
      "step: 3520, loss: 0.018601, accuracy: 0.894531\n",
      "step: 3530, loss: 0.019636, accuracy: 0.871094\n",
      "step: 3540, loss: 0.017261, accuracy: 0.914062\n",
      "step: 3550, loss: 0.023234, accuracy: 0.882812\n",
      "step: 3560, loss: 0.021839, accuracy: 0.867188\n",
      "step: 3570, loss: 0.016519, accuracy: 0.921875\n",
      "step: 3580, loss: 0.019951, accuracy: 0.878906\n"
     ]
    },
    {
     "name": "stdout",
     "output_type": "stream",
     "text": [
      "step: 3590, loss: 0.018658, accuracy: 0.875000\n",
      "step: 3600, loss: 0.020578, accuracy: 0.886719\n",
      "step: 3610, loss: 0.020380, accuracy: 0.855469\n",
      "step: 3620, loss: 0.017532, accuracy: 0.906250\n",
      "step: 3630, loss: 0.019322, accuracy: 0.863281\n",
      "step: 3640, loss: 0.016876, accuracy: 0.917969\n",
      "step: 3650, loss: 0.019413, accuracy: 0.894531\n",
      "step: 3660, loss: 0.017087, accuracy: 0.914062\n",
      "step: 3670, loss: 0.016489, accuracy: 0.906250\n",
      "step: 3680, loss: 0.022068, accuracy: 0.875000\n",
      "step: 3690, loss: 0.021615, accuracy: 0.886719\n",
      "step: 3700, loss: 0.022469, accuracy: 0.851562\n",
      "step: 3710, loss: 0.019051, accuracy: 0.898438\n",
      "step: 3720, loss: 0.021807, accuracy: 0.863281\n",
      "step: 3730, loss: 0.017134, accuracy: 0.910156\n",
      "step: 3740, loss: 0.018900, accuracy: 0.902344\n",
      "step: 3750, loss: 0.016945, accuracy: 0.914062\n",
      "step: 3760, loss: 0.017612, accuracy: 0.890625\n",
      "step: 3770, loss: 0.015693, accuracy: 0.902344\n",
      "step: 3780, loss: 0.018700, accuracy: 0.894531\n",
      "step: 3790, loss: 0.018655, accuracy: 0.898438\n",
      "step: 3800, loss: 0.023510, accuracy: 0.863281\n",
      "step: 3810, loss: 0.019592, accuracy: 0.886719\n",
      "step: 3820, loss: 0.024500, accuracy: 0.851562\n",
      "step: 3830, loss: 0.019135, accuracy: 0.886719\n",
      "step: 3840, loss: 0.020391, accuracy: 0.878906\n",
      "step: 3850, loss: 0.025838, accuracy: 0.839844\n",
      "step: 3860, loss: 0.018896, accuracy: 0.902344\n",
      "step: 3870, loss: 0.018400, accuracy: 0.902344\n",
      "step: 3880, loss: 0.024336, accuracy: 0.828125\n",
      "step: 3890, loss: 0.019084, accuracy: 0.906250\n",
      "step: 3900, loss: 0.020125, accuracy: 0.886719\n",
      "step: 3910, loss: 0.020462, accuracy: 0.882812\n",
      "step: 3920, loss: 0.021758, accuracy: 0.855469\n",
      "step: 3930, loss: 0.021139, accuracy: 0.871094\n",
      "step: 3940, loss: 0.021454, accuracy: 0.871094\n",
      "step: 3950, loss: 0.021293, accuracy: 0.851562\n",
      "step: 3960, loss: 0.017760, accuracy: 0.906250\n",
      "step: 3970, loss: 0.017690, accuracy: 0.906250\n",
      "step: 3980, loss: 0.015349, accuracy: 0.914062\n",
      "step: 3990, loss: 0.017935, accuracy: 0.894531\n",
      "step: 4000, loss: 0.020307, accuracy: 0.867188\n",
      "step: 4010, loss: 0.018993, accuracy: 0.898438\n",
      "step: 4020, loss: 0.015157, accuracy: 0.925781\n",
      "step: 4030, loss: 0.015901, accuracy: 0.917969\n",
      "step: 4040, loss: 0.023563, accuracy: 0.847656\n",
      "step: 4050, loss: 0.021768, accuracy: 0.867188\n",
      "step: 4060, loss: 0.018205, accuracy: 0.910156\n",
      "step: 4070, loss: 0.020875, accuracy: 0.875000\n",
      "step: 4080, loss: 0.018955, accuracy: 0.898438\n",
      "step: 4090, loss: 0.016932, accuracy: 0.929688\n",
      "step: 4100, loss: 0.018409, accuracy: 0.894531\n",
      "step: 4110, loss: 0.020412, accuracy: 0.882812\n",
      "step: 4120, loss: 0.022206, accuracy: 0.859375\n",
      "step: 4130, loss: 0.020560, accuracy: 0.886719\n",
      "step: 4140, loss: 0.020762, accuracy: 0.875000\n",
      "step: 4150, loss: 0.017141, accuracy: 0.906250\n",
      "step: 4160, loss: 0.018053, accuracy: 0.894531\n",
      "step: 4170, loss: 0.017748, accuracy: 0.902344\n",
      "step: 4180, loss: 0.015939, accuracy: 0.917969\n",
      "step: 4190, loss: 0.017430, accuracy: 0.914062\n",
      "step: 4200, loss: 0.017189, accuracy: 0.890625\n",
      "step: 4210, loss: 0.021030, accuracy: 0.886719\n",
      "step: 4220, loss: 0.014291, accuracy: 0.937500\n",
      "step: 4230, loss: 0.014230, accuracy: 0.929688\n",
      "step: 4240, loss: 0.019235, accuracy: 0.886719\n",
      "step: 4250, loss: 0.018374, accuracy: 0.898438\n",
      "step: 4260, loss: 0.018330, accuracy: 0.917969\n",
      "step: 4270, loss: 0.020658, accuracy: 0.878906\n",
      "step: 4280, loss: 0.023710, accuracy: 0.855469\n",
      "step: 4290, loss: 0.015855, accuracy: 0.917969\n",
      "step: 4300, loss: 0.021229, accuracy: 0.855469\n",
      "step: 4310, loss: 0.020177, accuracy: 0.871094\n",
      "step: 4320, loss: 0.019037, accuracy: 0.882812\n",
      "step: 4330, loss: 0.023401, accuracy: 0.851562\n",
      "step: 4340, loss: 0.019796, accuracy: 0.882812\n",
      "step: 4350, loss: 0.021222, accuracy: 0.871094\n",
      "step: 4360, loss: 0.018911, accuracy: 0.894531\n",
      "step: 4370, loss: 0.021381, accuracy: 0.871094\n",
      "step: 4380, loss: 0.017926, accuracy: 0.886719\n",
      "step: 4390, loss: 0.020127, accuracy: 0.871094\n",
      "step: 4400, loss: 0.022285, accuracy: 0.839844\n",
      "step: 4410, loss: 0.019493, accuracy: 0.882812\n",
      "step: 4420, loss: 0.017921, accuracy: 0.902344\n",
      "step: 4430, loss: 0.016631, accuracy: 0.906250\n",
      "step: 4440, loss: 0.022435, accuracy: 0.855469\n",
      "step: 4450, loss: 0.017202, accuracy: 0.906250\n",
      "step: 4460, loss: 0.018853, accuracy: 0.886719\n",
      "step: 4470, loss: 0.019160, accuracy: 0.898438\n",
      "step: 4480, loss: 0.020519, accuracy: 0.878906\n",
      "step: 4490, loss: 0.020924, accuracy: 0.890625\n",
      "step: 4500, loss: 0.019762, accuracy: 0.882812\n",
      "step: 4510, loss: 0.019934, accuracy: 0.867188\n",
      "step: 4520, loss: 0.017302, accuracy: 0.902344\n",
      "step: 4530, loss: 0.018223, accuracy: 0.890625\n",
      "step: 4540, loss: 0.017217, accuracy: 0.917969\n",
      "step: 4550, loss: 0.021526, accuracy: 0.867188\n",
      "step: 4560, loss: 0.017858, accuracy: 0.894531\n",
      "step: 4570, loss: 0.018889, accuracy: 0.906250\n",
      "step: 4580, loss: 0.020742, accuracy: 0.890625\n",
      "step: 4590, loss: 0.018014, accuracy: 0.898438\n",
      "step: 4600, loss: 0.021484, accuracy: 0.859375\n",
      "step: 4610, loss: 0.021014, accuracy: 0.859375\n",
      "step: 4620, loss: 0.018788, accuracy: 0.878906\n",
      "step: 4630, loss: 0.017697, accuracy: 0.921875\n",
      "step: 4640, loss: 0.019780, accuracy: 0.875000\n",
      "step: 4650, loss: 0.019199, accuracy: 0.886719\n",
      "step: 4660, loss: 0.016410, accuracy: 0.902344\n",
      "step: 4670, loss: 0.016687, accuracy: 0.906250\n",
      "step: 4680, loss: 0.017235, accuracy: 0.894531\n",
      "step: 4690, loss: 0.020788, accuracy: 0.878906\n",
      "step: 4700, loss: 0.017112, accuracy: 0.906250\n",
      "step: 4710, loss: 0.019071, accuracy: 0.894531\n",
      "step: 4720, loss: 0.020494, accuracy: 0.875000\n",
      "step: 4730, loss: 0.019966, accuracy: 0.882812\n",
      "step: 4740, loss: 0.020079, accuracy: 0.875000\n",
      "step: 4750, loss: 0.021179, accuracy: 0.863281\n",
      "step: 4760, loss: 0.015837, accuracy: 0.906250\n",
      "step: 4770, loss: 0.015620, accuracy: 0.917969\n",
      "step: 4780, loss: 0.014663, accuracy: 0.929688\n",
      "step: 4790, loss: 0.021083, accuracy: 0.882812\n",
      "step: 4800, loss: 0.019557, accuracy: 0.878906\n",
      "step: 4810, loss: 0.020955, accuracy: 0.878906\n",
      "step: 4820, loss: 0.019235, accuracy: 0.875000\n",
      "step: 4830, loss: 0.020823, accuracy: 0.875000\n",
      "step: 4840, loss: 0.018410, accuracy: 0.902344\n",
      "step: 4850, loss: 0.020603, accuracy: 0.878906\n",
      "step: 4860, loss: 0.015702, accuracy: 0.910156\n",
      "step: 4870, loss: 0.017895, accuracy: 0.890625\n",
      "step: 4880, loss: 0.017929, accuracy: 0.910156\n",
      "step: 4890, loss: 0.019352, accuracy: 0.886719\n",
      "step: 4900, loss: 0.016820, accuracy: 0.910156\n",
      "step: 4910, loss: 0.018770, accuracy: 0.886719\n",
      "step: 4920, loss: 0.016170, accuracy: 0.917969\n",
      "step: 4930, loss: 0.015850, accuracy: 0.925781\n",
      "step: 4940, loss: 0.016601, accuracy: 0.902344\n",
      "step: 4950, loss: 0.017642, accuracy: 0.886719\n",
      "step: 4960, loss: 0.020538, accuracy: 0.886719\n",
      "step: 4970, loss: 0.018077, accuracy: 0.906250\n",
      "step: 4980, loss: 0.016123, accuracy: 0.921875\n",
      "step: 4990, loss: 0.017277, accuracy: 0.902344\n",
      "step: 5000, loss: 0.020094, accuracy: 0.863281\n"
     ]
    }
   ],
   "source": [
    "lossac = []\n",
    "for step, (batchX, batchY) in enumerate(trainData.take(steps),1):\n",
    "    loss, pred = runOptimization(batchX, batchY)\n",
    "    if step % iStep == 0:\n",
    "        # pred = network(batchX)\n",
    "        # loss = crossEntropy(pred, batchY)\n",
    "        acc = accuracy(pred, batchY)\n",
    "        print(\"step: %i, loss: %f, accuracy: %f\" %(step,loss,acc))\n",
    "        lossac.append(loss)   "
   ]
  },
  {
   "cell_type": "code",
   "execution_count": 12,
   "metadata": {
    "colab": {
     "base_uri": "https://localhost:8080/",
     "height": 282
    },
    "id": "NYO0luQquYbs",
    "outputId": "a6553bac-98cf-448e-c401-f0ca2b64f517"
   },
   "outputs": [
    {
     "data": {
      "text/plain": [
       "[<matplotlib.lines.Line2D at 0x7f5e60057610>]"
      ]
     },
     "execution_count": 12,
     "metadata": {},
     "output_type": "execute_result"
    },
    {
     "data": {
      "image/png": "[encoded data removed]",
      "text/plain": [
       "<Figure size 432x288 with 1 Axes>"
      ]
     },
     "metadata": {
      "needs_background": "light"
     },
     "output_type": "display_data"
    }
   ],
   "source": [
    "plt.plot(lossac)"
   ]
  },
  {
   "cell_type": "markdown",
   "metadata": {
    "id": "MMUZx0nt_5Up"
   },
   "source": [
    "# Test (Prediction)"
   ]
  },
  {
   "cell_type": "code",
   "execution_count": 13,
   "metadata": {
    "id": "AiquYfkYXy-C"
   },
   "outputs": [],
   "source": [
    "predY = network(xTest)\n",
    "classLabel = tf.argmax(predY, 1)\n"
   ]
  },
  {
   "cell_type": "markdown",
   "metadata": {
    "id": "iByCREKD_9_K"
   },
   "source": [
    "# Reshape the flatten images"
   ]
  },
  {
   "cell_type": "code",
   "execution_count": 14,
   "metadata": {
    "id": "UZI9dAq7bPPo"
   },
   "outputs": [],
   "source": [
    "xTestImg = np.reshape(xTest, [-1,28,28])"
   ]
  },
  {
   "cell_type": "code",
   "execution_count": 15,
   "metadata": {
    "colab": {
     "base_uri": "https://localhost:8080/",
     "height": 729
    },
    "id": "fa6euDWyb_V3",
    "outputId": "dcba2562-9c0e-44e1-e861-3134e66c392d"
   },
   "outputs": [
    {
     "data": {
      "image/png": "[encoded data removed]",
      "text/plain": [
       "<Figure size 720x720 with 25 Axes>"
      ]
     },
     "metadata": {},
     "output_type": "display_data"
    }
   ],
   "source": [
    "startIndex = 300\n",
    "num_row = 5\n",
    "num_col = 5# plot images\n",
    "fig, axes = plt.subplots(num_row, num_col, figsize=(2*num_col,2*num_row))\n",
    "for i in range(25):\n",
    "    ax = axes[i//num_col, i%num_col]\n",
    "    ax.imshow(xTestImg[i+startIndex,:,:], cmap='gray')\n",
    "    ax.set_title('Label: {}'.format(classLabel[i+startIndex]))\n",
    "    ax.tick_params(labelbottom=False)\n",
    "    ax.tick_params(labelleft=False)    \n",
    "    \n",
    "\n",
    "plt.tight_layout()\n",
    "\n",
    "plt.show()"
   ]
  },
  {
   "cell_type": "markdown",
   "metadata": {},
   "source": [
    "#  **Deep Machine Learning Workshop 4**\n",
    "\n",
    "# Task 2 "
   ]
  },
  {
   "cell_type": "code",
   "execution_count": 5,
   "metadata": {},
   "outputs": [],
   "source": [
    "import tensorflow as tf\n",
    "import numpy as np\n",
    "from tensorflow.keras.datasets import mnist\n",
    "from matplotlib import pyplot as plt\n",
    "from tensorflow.keras import Sequential\n",
    "from tensorflow.keras.layers import Dense\n",
    "from numpy import asarray\n",
    "import time\n",
    "from numpy import argmax\n",
    "from tensorflow.keras.utils import plot_model"
   ]
  },
  {
   "cell_type": "code",
   "execution_count": 17,
   "metadata": {},
   "outputs": [],
   "source": [
    "numClasses = 10\n",
    "numFeatures = 784\n",
    "\n",
    "lr = 0.15\n",
    "steps = 5000\n",
    "batchSize = 256\n",
    "iStep = 10"
   ]
  },
  {
   "cell_type": "markdown",
   "metadata": {},
   "source": [
    "## Data Processing \n",
    "### Splits and normalizes data before training"
   ]
  },
  {
   "cell_type": "code",
   "execution_count": 19,
   "metadata": {},
   "outputs": [
    {
     "name": "stdout",
     "output_type": "stream",
     "text": [
      "(60000, 784) (10000, 784)\n"
     ]
    }
   ],
   "source": [
    "# MNIST data\n",
    "(xTrain, yTrain),(xTest, yTest) = mnist.load_data()\n",
    "xTrain, xTest = np.array(xTrain, np.float32), np.array(xTest, np.float32)\n",
    "xTrain, xTest = xTrain.reshape([-1,numFeatures]), xTest.reshape([-1,numFeatures])\n",
    "xTrain, xTest = xTrain/255., xTest/255.\n",
    "print(xTrain.shape, xTest.shape)"
   ]
  },
  {
   "cell_type": "markdown",
   "metadata": {},
   "source": [
    "## Building MODEL \n",
    "\n",
    "expects an output data of 10 classes and uses a softmax activation fuction for the last layer\n"
   ]
  },
  {
   "cell_type": "code",
   "execution_count": 20,
   "metadata": {},
   "outputs": [
    {
     "name": "stdout",
     "output_type": "stream",
     "text": [
      "Model: \"sequential\"\n",
      "_________________________________________________________________\n",
      " Layer (type)                Output Shape              Param #   \n",
      "=================================================================\n",
      " dense (Dense)               (None, 10)                7850      \n",
      "                                                                 \n",
      " dense_1 (Dense)             (None, 8)                 88        \n",
      "                                                                 \n",
      " dense_2 (Dense)             (None, 10)                90        \n",
      "                                                                 \n",
      "=================================================================\n",
      "Total params: 8,028\n",
      "Trainable params: 8,028\n",
      "Non-trainable params: 0\n",
      "_________________________________________________________________\n"
     ]
    }
   ],
   "source": [
    "model = Sequential()\n",
    "model.add(Dense(10, activation='relu', kernel_initializer='he_normal', input_shape=(numFeatures,), kernel_regularizer='l1'))\n",
    "model.add(Dense(8, activation='relu', kernel_initializer='he_normal'))\n",
    "model.add(Dense(numClasses, activation='softmax'))\n",
    "model.summary()"
   ]
  },
  {
   "cell_type": "code",
   "execution_count": 42,
   "metadata": {},
   "outputs": [
    {
     "name": "stdout",
     "output_type": "stream",
     "text": [
      "Accuracy: 0.872\n"
     ]
    }
   ],
   "source": [
    "# define loss and optimizer\n",
    "model.compile(optimizer='adam', loss='sparse_categorical_crossentropy', metrics=['accuracy'])\n",
    "# fit the model\n",
    "model.fit(xTrain, yTrain, epochs=10, batch_size=128, verbose=0)\n",
    "# evaluate the model\n",
    "loss, acc = model.evaluate(xTest, yTest, verbose=0)\n",
    "print('Accuracy: %.3f' % acc)"
   ]
  },
  {
   "cell_type": "markdown",
   "metadata": {},
   "source": [
    "###  Hidden Neuron Set to 30"
   ]
  },
  {
   "cell_type": "code",
   "execution_count": 21,
   "metadata": {},
   "outputs": [
    {
     "name": "stdout",
     "output_type": "stream",
     "text": [
      "Model: \"sequential_1\"\n",
      "_________________________________________________________________\n",
      " Layer (type)                Output Shape              Param #   \n",
      "=================================================================\n",
      " dense_3 (Dense)             (None, 10)                7850      \n",
      "                                                                 \n",
      " dense_4 (Dense)             (None, 30)                330       \n",
      "                                                                 \n",
      " dense_5 (Dense)             (None, 10)                310       \n",
      "                                                                 \n",
      "=================================================================\n",
      "Total params: 8,490\n",
      "Trainable params: 8,490\n",
      "Non-trainable params: 0\n",
      "_________________________________________________________________\n"
     ]
    }
   ],
   "source": [
    "model = Sequential()\n",
    "model.add(Dense(10, activation='relu', kernel_initializer='he_normal', input_shape=(numFeatures,), kernel_regularizer='l1'))\n",
    "model.add(Dense(30, activation='relu', kernel_initializer='he_normal'))\n",
    "model.add(Dense(numClasses, activation='softmax'))\n",
    "model.summary()"
   ]
  },
  {
   "cell_type": "markdown",
   "metadata": {},
   "source": [
    "#### Accuracy increases , also the processing time increases"
   ]
  },
  {
   "cell_type": "code",
   "execution_count": 24,
   "metadata": {},
   "outputs": [
    {
     "name": "stdout",
     "output_type": "stream",
     "text": [
      "Accuracy: 0.895\n",
      "Processing Time:  8.71819519996643\n"
     ]
    }
   ],
   "source": [
    "# define loss and optimizer\n",
    "model.compile(optimizer='adam', loss='sparse_categorical_crossentropy', metrics=['accuracy'])\n",
    "# fit the model\n",
    "#timing the model performance\n",
    "tic = time.time()\n",
    "model.fit(xTrain, yTrain, epochs=10, batch_size=128, verbose=0)\n",
    "toc = time.time()\n",
    "# evaluate the model\n",
    "execution_time = toc-tic\n",
    "loss, acc = model.evaluate(xTest, yTest, verbose=0)\n",
    "print('Accuracy: %.3f' % acc)\n",
    "print('Processing Time: ', execution_time)\n",
    "    \n",
    "        #Run model and get results to append on a list\n",
    "        \n",
    "        "
   ]
  },
  {
   "cell_type": "markdown",
   "metadata": {},
   "source": [
    "### Hidden Neuron Set To 512"
   ]
  },
  {
   "cell_type": "code",
   "execution_count": 44,
   "metadata": {},
   "outputs": [
    {
     "name": "stdout",
     "output_type": "stream",
     "text": [
      "Model: \"sequential_8\"\n",
      "_________________________________________________________________\n",
      " Layer (type)                Output Shape              Param #   \n",
      "=================================================================\n",
      " dense_24 (Dense)            (None, 10)                7850      \n",
      "                                                                 \n",
      " dense_25 (Dense)            (None, 512)               5632      \n",
      "                                                                 \n",
      " dense_26 (Dense)            (None, 10)                5130      \n",
      "                                                                 \n",
      "=================================================================\n",
      "Total params: 18,612\n",
      "Trainable params: 18,612\n",
      "Non-trainable params: 0\n",
      "_________________________________________________________________\n"
     ]
    }
   ],
   "source": [
    "model = Sequential()\n",
    "model.add(Dense(10, activation='relu', kernel_initializer='he_normal', input_shape=(numFeatures,), kernel_regularizer='l1'))\n",
    "model.add(Dense(512, activation='relu', kernel_initializer='he_normal'))\n",
    "model.add(Dense(numClasses, activation='softmax'))\n",
    "model.summary()"
   ]
  },
  {
   "cell_type": "markdown",
   "metadata": {},
   "source": [
    "#### processing time increases  , also a futher improvement in accuracy"
   ]
  },
  {
   "cell_type": "code",
   "execution_count": 45,
   "metadata": {},
   "outputs": [
    {
     "name": "stdout",
     "output_type": "stream",
     "text": [
      "Accuracy: 0.930\n",
      "Processing Time:  10.995627880096436\n"
     ]
    }
   ],
   "source": [
    "# define loss and optimizer\n",
    "model.compile(optimizer='adam', loss='sparse_categorical_crossentropy', metrics=['accuracy'])\n",
    "# fit the model\n",
    "#timing the model performance\n",
    "tic = time.time()\n",
    "model.fit(xTrain, yTrain, epochs=10, batch_size=128, verbose=0)\n",
    "toc = time.time()\n",
    "# evaluate the model\n",
    "execution_time = toc-tic\n",
    "loss, acc = model.evaluate(xTest, yTest, verbose=0)\n",
    "print('Accuracy: %.3f' % acc)\n",
    "print('Processing Time: ', execution_time)\n",
    "    \n",
    "        #Run model and get results to append on a list\n",
    "        \n",
    "        "
   ]
  },
  {
   "cell_type": "markdown",
   "metadata": {},
   "source": [
    "### Tune Learning Rate"
   ]
  },
  {
   "cell_type": "code",
   "execution_count": 47,
   "metadata": {},
   "outputs": [
    {
     "name": "stdout",
     "output_type": "stream",
     "text": [
      "Model: \"sequential_10\"\n",
      "_________________________________________________________________\n",
      " Layer (type)                Output Shape              Param #   \n",
      "=================================================================\n",
      " dense_30 (Dense)            (None, 30)                23550     \n",
      "                                                                 \n",
      " dense_31 (Dense)            (None, 8)                 248       \n",
      "                                                                 \n",
      " dense_32 (Dense)            (None, 10)                90        \n",
      "                                                                 \n",
      "=================================================================\n",
      "Total params: 23,888\n",
      "Trainable params: 23,888\n",
      "Non-trainable params: 0\n",
      "_________________________________________________________________\n"
     ]
    }
   ],
   "source": [
    "model = Sequential()\n",
    "model.add(Dense(30, activation='relu', kernel_initializer='he_normal', input_shape=(numFeatures,), kernel_regularizer='l1'))\n",
    "model.add(Dense(8, activation='relu', kernel_initializer='he_normal'))\n",
    "model.add(Dense(numClasses, activation='softmax'))\n",
    "model.summary()"
   ]
  },
  {
   "cell_type": "markdown",
   "metadata": {},
   "source": [
    "### Learning Rate Set to 0.1"
   ]
  },
  {
   "cell_type": "code",
   "execution_count": 48,
   "metadata": {},
   "outputs": [],
   "source": [
    "from keras import backend as K\n",
    "model.compile(optimizer='adam', loss='sparse_categorical_crossentropy', metrics=['accuracy'])\n",
    "K.set_value(model.optimizer.learning_rate, 0.1)"
   ]
  },
  {
   "cell_type": "markdown",
   "metadata": {},
   "source": [
    "#### There is a reduction in accuracy ( the descent must have overshot)\n",
    "#### Reduction in time it takes to train "
   ]
  },
  {
   "cell_type": "code",
   "execution_count": 49,
   "metadata": {},
   "outputs": [
    {
     "name": "stdout",
     "output_type": "stream",
     "text": [
      "Accuracy: 0.113\n",
      "Processing Time:  8.890690803527832\n"
     ]
    }
   ],
   "source": [
    "\n",
    "#timing the model performance\n",
    "tic = time.time()\n",
    "model.fit(xTrain, yTrain, epochs=10, batch_size=128, verbose=0)\n",
    "toc = time.time()\n",
    "# evaluate the model\n",
    "execution_time = toc-tic\n",
    "loss, acc = model.evaluate(xTest, yTest, verbose=0)\n",
    "print('Accuracy: %.3f' % acc)\n",
    "print('Processing Time: ', execution_time)\n",
    "    \n",
    "        #Run model and get results to append on a list\n",
    "        \n",
    "        "
   ]
  },
  {
   "cell_type": "markdown",
   "metadata": {},
   "source": [
    "### Learning Rate Set To 1\n"
   ]
  },
  {
   "cell_type": "code",
   "execution_count": 50,
   "metadata": {},
   "outputs": [
    {
     "name": "stdout",
     "output_type": "stream",
     "text": [
      "Model: \"sequential_11\"\n",
      "_________________________________________________________________\n",
      " Layer (type)                Output Shape              Param #   \n",
      "=================================================================\n",
      " dense_33 (Dense)            (None, 30)                23550     \n",
      "                                                                 \n",
      " dense_34 (Dense)            (None, 8)                 248       \n",
      "                                                                 \n",
      " dense_35 (Dense)            (None, 10)                90        \n",
      "                                                                 \n",
      "=================================================================\n",
      "Total params: 23,888\n",
      "Trainable params: 23,888\n",
      "Non-trainable params: 0\n",
      "_________________________________________________________________\n"
     ]
    }
   ],
   "source": [
    "model = Sequential()\n",
    "model.add(Dense(30, activation='relu', kernel_initializer='he_normal', input_shape=(numFeatures,), kernel_regularizer='l1'))\n",
    "model.add(Dense(8, activation='relu', kernel_initializer='he_normal'))\n",
    "model.add(Dense(numClasses, activation='softmax'))\n",
    "model.summary()"
   ]
  },
  {
   "cell_type": "markdown",
   "metadata": {},
   "source": [
    "#### Accuracy reduces futher and processing time reduces"
   ]
  },
  {
   "cell_type": "code",
   "execution_count": 51,
   "metadata": {},
   "outputs": [
    {
     "name": "stdout",
     "output_type": "stream",
     "text": [
      "Accuracy: 0.098\n",
      "Processing Time:  7.964528799057007\n"
     ]
    }
   ],
   "source": [
    "# define loss and optimizer\n",
    "model.compile(optimizer='adam', loss='sparse_categorical_crossentropy', metrics=['accuracy'])\n",
    "K.set_value(model.optimizer.learning_rate, 1)\n",
    "# fit the model\n",
    "#timing the model performance\n",
    "tic = time.time()\n",
    "model.fit(xTrain, yTrain, epochs=10, batch_size=128, verbose=0)\n",
    "toc = time.time()\n",
    "# evaluate the model\n",
    "execution_time = toc-tic\n",
    "loss, acc = model.evaluate(xTest, yTest, verbose=0)\n",
    "print('Accuracy: %.3f' % acc)\n",
    "print('Processing Time: ', execution_time)\n",
    "    \n",
    "        #Run model and get results to append on a list\n",
    "        \n",
    "        "
   ]
  },
  {
   "cell_type": "markdown",
   "metadata": {},
   "source": [
    "### Learning Rate Set To 3"
   ]
  },
  {
   "cell_type": "code",
   "execution_count": 52,
   "metadata": {},
   "outputs": [
    {
     "name": "stdout",
     "output_type": "stream",
     "text": [
      "Model: \"sequential_12\"\n",
      "_________________________________________________________________\n",
      " Layer (type)                Output Shape              Param #   \n",
      "=================================================================\n",
      " dense_36 (Dense)            (None, 30)                23550     \n",
      "                                                                 \n",
      " dense_37 (Dense)            (None, 8)                 248       \n",
      "                                                                 \n",
      " dense_38 (Dense)            (None, 10)                90        \n",
      "                                                                 \n",
      "=================================================================\n",
      "Total params: 23,888\n",
      "Trainable params: 23,888\n",
      "Non-trainable params: 0\n",
      "_________________________________________________________________\n"
     ]
    }
   ],
   "source": [
    "model = Sequential()\n",
    "model.add(Dense(30, activation='relu', kernel_initializer='he_normal', input_shape=(numFeatures,), kernel_regularizer='l1'))\n",
    "model.add(Dense(8, activation='relu', kernel_initializer='he_normal'))\n",
    "model.add(Dense(numClasses, activation='softmax'))\n",
    "model.summary()"
   ]
  },
  {
   "cell_type": "markdown",
   "metadata": {},
   "source": [
    "#### Model behavees very poorly but its very quick to train"
   ]
  },
  {
   "cell_type": "code",
   "execution_count": 53,
   "metadata": {
    "scrolled": true
   },
   "outputs": [
    {
     "name": "stdout",
     "output_type": "stream",
     "text": [
      "Accuracy: 0.101\n",
      "Processing Time:  9.768633365631104\n"
     ]
    }
   ],
   "source": [
    "# define loss and optimizer\n",
    "model.compile(optimizer='adam', loss='sparse_categorical_crossentropy', metrics=['accuracy'])\n",
    "K.set_value(model.optimizer.learning_rate, 3)\n",
    "# fit the model\n",
    "#timing the model performance\n",
    "tic = time.time()\n",
    "model.fit(xTrain, yTrain, epochs=10, batch_size=128, verbose=0)\n",
    "toc = time.time()\n",
    "# evaluate the model\n",
    "execution_time = toc-tic\n",
    "loss, acc = model.evaluate(xTest, yTest, verbose=0)\n",
    "print('Accuracy: %.3f' % acc)\n",
    "print('Processing Time: ', execution_time)\n",
    "    \n",
    "        #Run model and get results to append on a list\n",
    "        \n",
    "        "
   ]
  },
  {
   "cell_type": "markdown",
   "metadata": {},
   "source": [
    "### Model With and Without regularizer"
   ]
  },
  {
   "cell_type": "markdown",
   "metadata": {},
   "source": [
    "* With regularizer"
   ]
  },
  {
   "cell_type": "code",
   "execution_count": 58,
   "metadata": {},
   "outputs": [
    {
     "name": "stdout",
     "output_type": "stream",
     "text": [
      "Model: \"sequential_15\"\n",
      "_________________________________________________________________\n",
      " Layer (type)                Output Shape              Param #   \n",
      "=================================================================\n",
      " dense_45 (Dense)            (None, 30)                23550     \n",
      "                                                                 \n",
      " dense_46 (Dense)            (None, 8)                 248       \n",
      "                                                                 \n",
      " dense_47 (Dense)            (None, 10)                90        \n",
      "                                                                 \n",
      "=================================================================\n",
      "Total params: 23,888\n",
      "Trainable params: 23,888\n",
      "Non-trainable params: 0\n",
      "_________________________________________________________________\n"
     ]
    }
   ],
   "source": [
    "model = Sequential()\n",
    "model.add(Dense(30, activation='relu', kernel_initializer='he_normal', input_shape=(numFeatures,), kernel_regularizer='l1'))\n",
    "model.add(Dense(8, activation='relu', kernel_initializer='he_normal'))\n",
    "model.add(Dense(numClasses, activation='softmax'))\n",
    "model.summary()"
   ]
  },
  {
   "cell_type": "markdown",
   "metadata": {},
   "source": [
    "### Has higher processing time and lesser accuracy compared to withouth regularizer"
   ]
  },
  {
   "cell_type": "code",
   "execution_count": 59,
   "metadata": {},
   "outputs": [
    {
     "name": "stdout",
     "output_type": "stream",
     "text": [
      "Accuracy: 0.888\n",
      "Processing Time:  9.95652174949646\n"
     ]
    }
   ],
   "source": [
    "# define loss and optimizer\n",
    "model.compile(optimizer='adam', loss='sparse_categorical_crossentropy', metrics=['accuracy'])\n",
    "\n",
    "# fit the model\n",
    "#timing the model performance\n",
    "tic = time.time()\n",
    "model.fit(xTrain, yTrain, epochs=10, batch_size=128, verbose=0)\n",
    "toc = time.time()\n",
    "# evaluate the model\n",
    "execution_time = toc-tic\n",
    "loss, acc = model.evaluate(xTest, yTest, verbose=0)\n",
    "print('Accuracy: %.3f' % acc)\n",
    "print('Processing Time: ', execution_time)\n",
    "    \n",
    "        #Run model and get results to append on a list\n",
    "        \n",
    "        "
   ]
  },
  {
   "cell_type": "markdown",
   "metadata": {},
   "source": [
    "* Without regularizer"
   ]
  },
  {
   "cell_type": "code",
   "execution_count": 56,
   "metadata": {},
   "outputs": [
    {
     "name": "stdout",
     "output_type": "stream",
     "text": [
      "Model: \"sequential_14\"\n",
      "_________________________________________________________________\n",
      " Layer (type)                Output Shape              Param #   \n",
      "=================================================================\n",
      " dense_42 (Dense)            (None, 30)                23550     \n",
      "                                                                 \n",
      " dense_43 (Dense)            (None, 8)                 248       \n",
      "                                                                 \n",
      " dense_44 (Dense)            (None, 10)                90        \n",
      "                                                                 \n",
      "=================================================================\n",
      "Total params: 23,888\n",
      "Trainable params: 23,888\n",
      "Non-trainable params: 0\n",
      "_________________________________________________________________\n"
     ]
    }
   ],
   "source": [
    "model = Sequential()\n",
    "model.add(Dense(30, activation='relu', kernel_initializer='he_normal', input_shape=(numFeatures,)))\n",
    "model.add(Dense(8, activation='relu', kernel_initializer='he_normal'))\n",
    "model.add(Dense(numClasses, activation='softmax'))\n",
    "model.summary()"
   ]
  },
  {
   "cell_type": "code",
   "execution_count": 57,
   "metadata": {},
   "outputs": [
    {
     "name": "stdout",
     "output_type": "stream",
     "text": [
      "Accuracy: 0.960\n",
      "Processing Time:  9.594746589660645\n"
     ]
    }
   ],
   "source": [
    "# define loss and optimizer\n",
    "model.compile(optimizer='adam', loss='sparse_categorical_crossentropy', metrics=['accuracy'])\n",
    "\n",
    "# fit the model\n",
    "#timing the model performance\n",
    "tic = time.time()\n",
    "model.fit(xTrain, yTrain, epochs=10, batch_size=128, verbose=0)\n",
    "toc = time.time()\n",
    "# evaluate the model\n",
    "execution_time = toc-tic\n",
    "loss, acc = model.evaluate(xTest, yTest, verbose=0)\n",
    "print('Accuracy: %.3f' % acc)\n",
    "print('Processing Time: ', execution_time)\n",
    "    \n",
    "        #Run model and get results to append on a list\n",
    "        \n",
    "        "
   ]
  },
  {
   "cell_type": "markdown",
   "metadata": {},
   "source": [
    "### Add DropOut"
   ]
  },
  {
   "cell_type": "code",
   "execution_count": 8,
   "metadata": {},
   "outputs": [],
   "source": [
    "from keras.layers import Dropout"
   ]
  },
  {
   "cell_type": "code",
   "execution_count": 64,
   "metadata": {},
   "outputs": [
    {
     "name": "stdout",
     "output_type": "stream",
     "text": [
      "Model: \"sequential_16\"\n",
      "_________________________________________________________________\n",
      " Layer (type)                Output Shape              Param #   \n",
      "=================================================================\n",
      " dense_48 (Dense)            (None, 10)                7850      \n",
      "                                                                 \n",
      " dense_49 (Dense)            (None, 8)                 88        \n",
      "                                                                 \n",
      " dropout_1 (Dropout)         (None, 8)                 0         \n",
      "                                                                 \n",
      " dense_50 (Dense)            (None, 10)                90        \n",
      "                                                                 \n",
      "=================================================================\n",
      "Total params: 8,028\n",
      "Trainable params: 8,028\n",
      "Non-trainable params: 0\n",
      "_________________________________________________________________\n"
     ]
    }
   ],
   "source": [
    "model = Sequential()\n",
    "model.add(Dense(10, activation='relu', kernel_initializer='he_normal', input_shape=(numFeatures,), kernel_regularizer='l1'))\n",
    "model.add(Dense(8, activation='relu', kernel_initializer='he_normal'))\n",
    "model.add(Dropout(0.2))\n",
    "model.add(Dense(numClasses, activation='softmax'))\n",
    "model.summary()"
   ]
  },
  {
   "cell_type": "markdown",
   "metadata": {},
   "source": [
    "#### Accuracy reduces a little"
   ]
  },
  {
   "cell_type": "code",
   "execution_count": 65,
   "metadata": {},
   "outputs": [
    {
     "name": "stdout",
     "output_type": "stream",
     "text": [
      "Accuracy: 0.870\n",
      "Processing Time:  8.730173587799072\n"
     ]
    }
   ],
   "source": [
    "# define loss and optimizer\n",
    "model.compile(optimizer='adam', loss='sparse_categorical_crossentropy', metrics=['accuracy'])\n",
    "\n",
    "# fit the model\n",
    "#timing the model performance\n",
    "tic = time.time()\n",
    "model.fit(xTrain, yTrain, epochs=10, batch_size=128, verbose=0)\n",
    "toc = time.time()\n",
    "# evaluate the model\n",
    "execution_time = toc-tic\n",
    "loss, acc = model.evaluate(xTest, yTest, verbose=0)\n",
    "print('Accuracy: %.3f' % acc)\n",
    "print('Processing Time: ', execution_time)\n",
    "    \n",
    "        #Run model and get results to append on a list\n",
    "        \n",
    "        "
   ]
  },
  {
   "cell_type": "markdown",
   "metadata": {},
   "source": [
    "### Best Possible HyperParameters"
   ]
  },
  {
   "cell_type": "markdown",
   "metadata": {},
   "source": [
    "#### learning rate = 0.001\n",
    "#### number of hidden layer = 512\n",
    "#### With regularizer \n",
    "#### Adding Dropout to reduce overfitting"
   ]
  },
  {
   "cell_type": "code",
   "execution_count": 72,
   "metadata": {},
   "outputs": [
    {
     "name": "stdout",
     "output_type": "stream",
     "text": [
      "Model: \"sequential_18\"\n",
      "_________________________________________________________________\n",
      " Layer (type)                Output Shape              Param #   \n",
      "=================================================================\n",
      " dense_54 (Dense)            (None, 10)                7850      \n",
      "                                                                 \n",
      " dense_55 (Dense)            (None, 512)               5632      \n",
      "                                                                 \n",
      " dropout_3 (Dropout)         (None, 512)               0         \n",
      "                                                                 \n",
      " dense_56 (Dense)            (None, 10)                5130      \n",
      "                                                                 \n",
      "=================================================================\n",
      "Total params: 18,612\n",
      "Trainable params: 18,612\n",
      "Non-trainable params: 0\n",
      "_________________________________________________________________\n"
     ]
    }
   ],
   "source": [
    "model = Sequential()\n",
    "model.add(Dense(10, activation='relu', kernel_initializer='he_normal', input_shape=(numFeatures,), kernel_regularizer='l1'))\n",
    "model.add(Dense(512, activation='relu', kernel_initializer='he_normal'))\n",
    "model.add(Dropout(0.2))\n",
    "model.add(Dense(numClasses, activation='softmax'))\n",
    "model.summary()"
   ]
  },
  {
   "cell_type": "code",
   "execution_count": 73,
   "metadata": {},
   "outputs": [
    {
     "name": "stdout",
     "output_type": "stream",
     "text": [
      "Accuracy: 0.923\n",
      "Processing Time:  13.120967149734497\n"
     ]
    }
   ],
   "source": [
    "# define loss and optimizer\n",
    "model.compile(optimizer='adam', loss='sparse_categorical_crossentropy', metrics=['accuracy'])\n",
    "\n",
    "# fit the model\n",
    "#timing the model performance\n",
    "tic = time.time()\n",
    "model.fit(xTrain, yTrain, epochs=10, batch_size=128, verbose=0)\n",
    "toc = time.time()\n",
    "# evaluate the model\n",
    "execution_time = toc-tic\n",
    "loss, acc = model.evaluate(xTest, yTest, verbose=0)\n",
    "print('Accuracy: %.3f' % acc)\n",
    "print('Processing Time: ', execution_time)\n",
    "    \n",
    "        #Run model and get results to append on a list\n",
    "        \n",
    "        "
   ]
  },
  {
   "cell_type": "code",
   "execution_count": 75,
   "metadata": {},
   "outputs": [
    {
     "name": "stdout",
     "output_type": "stream",
     "text": [
      "0.001\n"
     ]
    }
   ],
   "source": [
    "print(K.eval(model.optimizer.lr))"
   ]
  },
  {
   "cell_type": "code",
   "execution_count": 76,
   "metadata": {},
   "outputs": [
    {
     "data": {
      "text/plain": [
       "{'name': 'Adam',\n",
       " 'learning_rate': 0.001,\n",
       " 'decay': 0.0,\n",
       " 'beta_1': 0.9,\n",
       " 'beta_2': 0.999,\n",
       " 'epsilon': 1e-07,\n",
       " 'amsgrad': False}"
      ]
     },
     "execution_count": 76,
     "metadata": {},
     "output_type": "execute_result"
    }
   ],
   "source": [
    "model.optimizer.get_config()"
   ]
  },
  {
   "cell_type": "markdown",
   "metadata": {},
   "source": [
    "## APPLY MLP TO CLASSIFY CIFAR10 IMAGES"
   ]
  },
  {
   "cell_type": "markdown",
   "metadata": {},
   "source": [
    "### Imports"
   ]
  },
  {
   "cell_type": "code",
   "execution_count": 32,
   "metadata": {},
   "outputs": [],
   "source": [
    "import tensorflow as tf\n",
    "\n",
    "from tensorflow.keras import datasets, layers, models\n",
    "import matplotlib.pyplot as plt\n",
    "from keras.utils.np_utils import to_categorical\n",
    "from tensorflow.keras.preprocessing.image import ImageDataGenerator"
   ]
  },
  {
   "cell_type": "code",
   "execution_count": 33,
   "metadata": {},
   "outputs": [],
   "source": [
    "(train_images, train_labels), (test_images, test_labels) = datasets.cifar10.load_data()\n",
    "\n",
    "# Normalize pixel values to be between 0 and 1\n",
    "train_images, test_images = train_images / 255.0, test_images / 255.0"
   ]
  },
  {
   "cell_type": "code",
   "execution_count": 34,
   "metadata": {},
   "outputs": [
    {
     "data": {
      "text/plain": [
       "(10000, 1)"
      ]
     },
     "execution_count": 34,
     "metadata": {},
     "output_type": "execute_result"
    }
   ],
   "source": [
    "test_labels.shape"
   ]
  },
  {
   "cell_type": "code",
   "execution_count": 35,
   "metadata": {},
   "outputs": [],
   "source": [
    "\n",
    "x_train = np.reshape(train_images, (50000, 3072)).astype('float32')\n",
    "x_test = np.reshape(test_images, (10000, 3072)).astype('float32')"
   ]
  },
  {
   "cell_type": "code",
   "execution_count": null,
   "metadata": {},
   "outputs": [],
   "source": []
  },
  {
   "cell_type": "code",
   "execution_count": 36,
   "metadata": {},
   "outputs": [
    {
     "name": "stdout",
     "output_type": "stream",
     "text": [
      "Model: \"sequential_6\"\n",
      "_________________________________________________________________\n",
      " Layer (type)                Output Shape              Param #   \n",
      "=================================================================\n",
      " dense_17 (Dense)            (None, 10)                30730     \n",
      "                                                                 \n",
      " dense_18 (Dense)            (None, 512)               5632      \n",
      "                                                                 \n",
      " dropout_5 (Dropout)         (None, 512)               0         \n",
      "                                                                 \n",
      " dense_19 (Dense)            (None, 10)                5130      \n",
      "                                                                 \n",
      "=================================================================\n",
      "Total params: 41,492\n",
      "Trainable params: 41,492\n",
      "Non-trainable params: 0\n",
      "_________________________________________________________________\n"
     ]
    }
   ],
   "source": [
    "model = Sequential()\n",
    "model.add(Dense(10, activation='relu',  input_dim=3072))\n",
    "model.add(Dense(512, activation='relu', kernel_initializer='he_normal'))\n",
    "model.add(Dropout(0.2))\n",
    "model.add(layers.Dense(10,activation='softmax'))\n",
    "model.summary()"
   ]
  },
  {
   "cell_type": "code",
   "execution_count": 37,
   "metadata": {
    "scrolled": true
   },
   "outputs": [
    {
     "name": "stdout",
     "output_type": "stream",
     "text": [
      "Epoch 1/18\n",
      "1563/1563 - 4s - loss: 2.3043 - accuracy: 0.0979 - 4s/epoch - 3ms/step\n",
      "Epoch 2/18\n",
      "1563/1563 - 3s - loss: 2.3028 - accuracy: 0.0999 - 3s/epoch - 2ms/step\n",
      "Epoch 3/18\n",
      "1563/1563 - 3s - loss: 2.3028 - accuracy: 0.0987 - 3s/epoch - 2ms/step\n",
      "Epoch 4/18\n",
      "1563/1563 - 3s - loss: 2.3028 - accuracy: 0.0979 - 3s/epoch - 2ms/step\n",
      "Epoch 5/18\n",
      "1563/1563 - 3s - loss: 2.3028 - accuracy: 0.0976 - 3s/epoch - 2ms/step\n",
      "Epoch 6/18\n",
      "1563/1563 - 3s - loss: 2.3028 - accuracy: 0.0977 - 3s/epoch - 2ms/step\n",
      "Epoch 7/18\n",
      "1563/1563 - 3s - loss: 2.3028 - accuracy: 0.1005 - 3s/epoch - 2ms/step\n",
      "Epoch 8/18\n",
      "1563/1563 - 3s - loss: 2.3028 - accuracy: 0.0965 - 3s/epoch - 2ms/step\n",
      "Epoch 9/18\n",
      "1563/1563 - 3s - loss: 2.3028 - accuracy: 0.0998 - 3s/epoch - 2ms/step\n",
      "Epoch 10/18\n",
      "1563/1563 - 3s - loss: 2.3028 - accuracy: 0.0976 - 3s/epoch - 2ms/step\n",
      "Epoch 11/18\n",
      "1563/1563 - 3s - loss: 2.3028 - accuracy: 0.0978 - 3s/epoch - 2ms/step\n",
      "Epoch 12/18\n",
      "1563/1563 - 3s - loss: 2.3028 - accuracy: 0.0979 - 3s/epoch - 2ms/step\n",
      "Epoch 13/18\n",
      "1563/1563 - 3s - loss: 2.3028 - accuracy: 0.0988 - 3s/epoch - 2ms/step\n",
      "Epoch 14/18\n",
      "1563/1563 - 3s - loss: 2.3028 - accuracy: 0.0996 - 3s/epoch - 2ms/step\n",
      "Epoch 15/18\n",
      "1563/1563 - 3s - loss: 2.3028 - accuracy: 0.0981 - 3s/epoch - 2ms/step\n",
      "Epoch 16/18\n",
      "1563/1563 - 3s - loss: 2.3028 - accuracy: 0.0966 - 3s/epoch - 2ms/step\n",
      "Epoch 17/18\n",
      "1563/1563 - 3s - loss: 2.3028 - accuracy: 0.0983 - 3s/epoch - 2ms/step\n",
      "Epoch 18/18\n",
      "1563/1563 - 3s - loss: 2.3028 - accuracy: 0.0987 - 3s/epoch - 2ms/step\n",
      "Accuracy: 0.100\n",
      "Processing Time:  56.83862900733948\n"
     ]
    }
   ],
   "source": [
    "# define loss and optimizer\n",
    "model.compile(optimizer='adam', loss='sparse_categorical_crossentropy', metrics=['accuracy'])\n",
    "\n",
    "# fit the model\n",
    "#timing the model performance\n",
    "tic = time.time()\n",
    "model.fit(x_train, train_labels,  epochs=18, batch_size=32, verbose=2)\n",
    "toc = time.time()\n",
    "# evaluate the model\n",
    "execution_time = toc-tic\n",
    "loss, acc = model.evaluate(x_test, test_labels, verbose=0)\n",
    "print('Accuracy: %.3f' % acc)\n",
    "print('Processing Time: ', execution_time)\n",
    "    \n",
    "        #Run model and get results to append on a list\n",
    "        \n",
    "        "
   ]
  },
  {
   "cell_type": "code",
   "execution_count": null,
   "metadata": {},
   "outputs": [],
   "source": []
  },
  {
   "cell_type": "code",
   "execution_count": null,
   "metadata": {},
   "outputs": [],
   "source": []
  }
 ],
 "metadata": {
  "colab": {
   "collapsed_sections": [],
   "name": "DML-WS4-Task1.ipynb",
   "provenance": []
  },
  "kernelspec": {
   "display_name": "Python 3 (ipykernel)",
   "language": "python",
   "name": "python3"
  },
  "language_info": {
   "codemirror_mode": {
    "name": "ipython",
    "version": 3
   },
   "file_extension": ".py",
   "mimetype": "text/x-python",
   "name": "python",
   "nbconvert_exporter": "python",
   "pygments_lexer": "ipython3",
   "version": "3.9.7"
  }
 },
 "nbformat": 4,
 "nbformat_minor": 1
}
